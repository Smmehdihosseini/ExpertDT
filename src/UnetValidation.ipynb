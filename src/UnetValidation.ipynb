{
 "cells": [
  {
   "cell_type": "markdown",
   "metadata": {
    "toc": true
   },
   "source": [
    "<h1>Table of Contents<span class=\"tocSkip\"></span></h1>\n",
    "<div class=\"toc\"><ul class=\"toc-item\"><li><span><a href=\"#Import\" data-toc-modified-id=\"Import-1\"><span class=\"toc-item-num\">1&nbsp;&nbsp;</span>Import</a></span></li><li><span><a href=\"#Settings\" data-toc-modified-id=\"Settings-2\"><span class=\"toc-item-num\">2&nbsp;&nbsp;</span>Settings</a></span></li><li><span><a href=\"#Qualitative-comparison-orginal---unet\" data-toc-modified-id=\"Qualitative-comparison-orginal---unet-3\"><span class=\"toc-item-num\">3&nbsp;&nbsp;</span>Qualitative comparison orginal - unet</a></span></li><li><span><a href=\"#Check-crops-obj-segmented\" data-toc-modified-id=\"Check-crops-obj-segmented-4\"><span class=\"toc-item-num\">4&nbsp;&nbsp;</span>Check crops obj segmented</a></span></li></ul></div>"
   ]
  },
  {
   "cell_type": "markdown",
   "metadata": {},
   "source": [
    "#### Import"
   ]
  },
  {
   "cell_type": "code",
   "execution_count": null,
   "metadata": {},
   "outputs": [],
   "source": [
    "import os\n",
    "import random\n",
    "import numpy as np\n",
    "import pandas as pd\n",
    "from PIL import Image\n",
    "import skimage.io as io\n",
    "import matplotlib.pyplot as plt\n",
    "from scipy import ndimage as ndi\n",
    "from skimage.measure import label\n",
    "from sklearn.metrics import jaccard_score\n",
    "from skimage.metrics import (adapted_rand_error,\n",
    "                             variation_of_information)"
   ]
  },
  {
   "cell_type": "markdown",
   "metadata": {},
   "source": [
    "#### Settings"
   ]
  },
  {
   "cell_type": "code",
   "execution_count": null,
   "metadata": {},
   "outputs": [],
   "source": [
    "ROOT_PATH = \"/space/ponzio/Morpheme_v2/results_segmentation/\"\n",
    "FILEPATH_EXPERIMENT = os.path.join(ROOT_PATH,\n",
    "                                   \"ccRCC+pRCC_Vgg16_300epochs_lre-3_focal-loss_26-04-2021_benchmarking/BinaryFocalLoss_Unet_vgg16_False\")\n",
    "DIRPATH_PREDICTIONS = os.path.join(FILEPATH_EXPERIMENT, \"test_preds\")\n",
    "DF_REFERENCE = os.path.join(DIRPATH_PREDICTIONS, \"image-segmentation.csv\")\n",
    "SIZE = 22\n",
    "COLOR = \"black\""
   ]
  },
  {
   "cell_type": "markdown",
   "metadata": {},
   "source": [
    "#### Qualitative comparison orginal - unet"
   ]
  },
  {
   "cell_type": "code",
   "execution_count": null,
   "metadata": {},
   "outputs": [],
   "source": [
    "for _, row in pd.read_csv(DF_REFERENCE).iterrows():\n",
    "    filepath_prediction = row[\"Predicted Mask\"]\n",
    "    # filepath_test example: /space/ponzio/Morpheme_v2/data/ccRCC/43/tumor/Annotation 1/subimages/crop_x21_y30.png\n",
    "    filepath_test = row[\"Original Image\"]\n",
    "    tumour_type = filepath_test.split(os.path.sep)[5]\n",
    "    fig, ax = plt.subplots(1, 2, figsize=(30, 30))\n",
    "    ax[0].imshow(io.imread(filepath_test, as_gray = False))\n",
    "    ax[1].imshow(io.imread(filepath_test, as_gray = False))\n",
    "    ax[1].imshow(io.imread(filepath_prediction, as_gray = True), cmap='jet', alpha=0.4)\n",
    "    ax[0].axis('off')\n",
    "    ax[1].axis('off')\n",
    "    ax[0].set_title(\"original {}\".format(tumour_type), fontsize=SIZE, color=COLOR)\n",
    "    ax[1].set_title(\"unet {}\".format(tumour_type), fontsize=SIZE, color=COLOR)"
   ]
  },
  {
   "cell_type": "markdown",
   "metadata": {},
   "source": [
    "#### Check crops obj segmented\n",
    "To test segmented crop_objects from segment_all_data.py"
   ]
  },
  {
   "cell_type": "code",
   "execution_count": null,
   "metadata": {
    "tags": []
   },
   "outputs": [],
   "source": [
    "import pickle\n",
    "output_folder = \"/space/ponzio/Morpheme_v2/results_segmentation/rudan_all\"\n",
    "# import crop objs\n",
    "filepath_crops_objs = os.path.join(output_folder, \"HP12-390-A10-ccRCC_crop_obj.pickle\")\n",
    "with open(filepath_crops_objs, \"rb\") as handle:\n",
    "    crop_obj = pickle.load(handle)\n",
    "    for random_ind in np.random.randint(0, len(crop_obj), 10):\n",
    "        image = crop_obj[random_ind]\n",
    "        index = crop_obj.indexes[random_ind]\n",
    "        try:\n",
    "            index[\"mask\"]\n",
    "            try:\n",
    "                fig, ax = plt.subplots(1, 2, figsize=(30, 30))\n",
    "                ax[0].imshow(image)\n",
    "                ax[1].imshow(image)\n",
    "                ax[1].imshow(index['mask'], cmap='jet', alpha=0.4)\n",
    "                ax[0].axis('off')\n",
    "                ax[1].axis('off')\n",
    "                fig.suptitle(\"Crop obj: {}\".format(j), fontsize=24)\n",
    "                plt.subplots_adjust(top=-2)\n",
    "            except:\n",
    "                pass\n",
    "        except:\n",
    "            pass"
   ]
  },
  {
   "cell_type": "code",
   "execution_count": null,
   "metadata": {},
   "outputs": [],
   "source": []
  },
  {
   "cell_type": "code",
   "execution_count": null,
   "metadata": {},
   "outputs": [],
   "source": []
  },
  {
   "cell_type": "code",
   "execution_count": null,
   "metadata": {
    "tags": []
   },
   "outputs": [],
   "source": [
    "crop_obj.indexes"
   ]
  }
 ],
 "metadata": {
  "kernelspec": {
   "display_name": "Python 3 (ipykernel)",
   "language": "python",
   "name": "python3"
  },
  "language_info": {
   "codemirror_mode": {
    "name": "ipython",
    "version": 3
   },
   "file_extension": ".py",
   "mimetype": "text/x-python",
   "name": "python",
   "nbconvert_exporter": "python",
   "pygments_lexer": "ipython3",
   "version": "3.9.12"
  },
  "toc": {
   "base_numbering": 1,
   "nav_menu": {},
   "number_sections": true,
   "sideBar": true,
   "skip_h1_title": false,
   "title_cell": "Table of Contents",
   "title_sidebar": "",
   "toc_cell": true,
   "toc_position": {
    "height": "calc(100% - 180px)",
    "left": "10px",
    "top": "150px",
    "width": "165px"
   },
   "toc_section_display": true,
   "toc_window_display": true
  }
 },
 "nbformat": 4,
 "nbformat_minor": 4
}
