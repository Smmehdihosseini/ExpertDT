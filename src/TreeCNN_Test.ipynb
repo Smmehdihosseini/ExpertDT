{
 "cells": [
  {
   "cell_type": "markdown",
   "metadata": {
    "toc": true
   },
   "source": [
    "<h1>Table of Contents<span class=\"tocSkip\"></span></h1>\n",
    "<div class=\"toc\"><ul class=\"toc-item\"><li><span><a href=\"#Import-and-settings\" data-toc-modified-id=\"Import-and-settings-1\"><span class=\"toc-item-num\">1&nbsp;&nbsp;</span>Import and settings</a></span></li><li><span><a href=\"#Prepare-test-set\" data-toc-modified-id=\"Prepare-test-set-2\"><span class=\"toc-item-num\">2&nbsp;&nbsp;</span>Prepare test set</a></span></li><li><span><a href=\"#Evaluation\" data-toc-modified-id=\"Evaluation-3\"><span class=\"toc-item-num\">3&nbsp;&nbsp;</span>Evaluation</a></span><ul class=\"toc-item\"><li><span><a href=\"#ROIs-per-patient-metrics\" data-toc-modified-id=\"ROIs-per-patient-metrics-3.1\"><span class=\"toc-item-num\">3.1&nbsp;&nbsp;</span>ROIs per-patient metrics</a></span></li><li><span><a href=\"#WSIs-per-patient-metrics\" data-toc-modified-id=\"WSIs-per-patient-metrics-3.2\"><span class=\"toc-item-num\">3.2&nbsp;&nbsp;</span>WSIs per-patient metrics</a></span><ul class=\"toc-item\"><li><span><a href=\"#Load-crops-object-for-WSIs-evaluation\" data-toc-modified-id=\"Load-crops-object-for-WSIs-evaluation-3.2.1\"><span class=\"toc-item-num\">3.2.1&nbsp;&nbsp;</span>Load crops object for WSIs evaluation</a></span></li><li><span><a href=\"#Evaluate\" data-toc-modified-id=\"Evaluate-3.2.2\"><span class=\"toc-item-num\">3.2.2&nbsp;&nbsp;</span>Evaluate</a></span></li><li><span><a href=\"#WSIs-visualize\" data-toc-modified-id=\"WSIs-visualize-3.2.3\"><span class=\"toc-item-num\">3.2.3&nbsp;&nbsp;</span>WSIs visualize</a></span></li></ul></li><li><span><a href=\"#Leaf-without-root\" data-toc-modified-id=\"Leaf-without-root-3.3\"><span class=\"toc-item-num\">3.3&nbsp;&nbsp;</span>Leaf without root</a></span></li></ul></li><li><span><a href=\"#Comparison\" data-toc-modified-id=\"Comparison-4\"><span class=\"toc-item-num\">4&nbsp;&nbsp;</span>Comparison</a></span><ul class=\"toc-item\"><li><span><a href=\"#Predict\" data-toc-modified-id=\"Predict-4.1\"><span class=\"toc-item-num\">4.1&nbsp;&nbsp;</span>Predict</a></span></li><li><span><a href=\"#Load-crop-objs\" data-toc-modified-id=\"Load-crop-objs-4.2\"><span class=\"toc-item-num\">4.2&nbsp;&nbsp;</span>Load crop objs</a></span></li><li><span><a href=\"#Evaluate\" data-toc-modified-id=\"Evaluate-4.3\"><span class=\"toc-item-num\">4.3&nbsp;&nbsp;</span>Evaluate</a></span></li></ul></li></ul></div>"
   ]
  },
  {
   "cell_type": "markdown",
   "metadata": {},
   "source": [
    "# Import and settings\n",
    "Run TreeCNN_Test.py to obtain list of elaborated crop objects"
   ]
  },
  {
   "cell_type": "code",
   "execution_count": 1,
   "metadata": {},
   "outputs": [],
   "source": [
    "import os\n",
    "import cv2\n",
    "import math\n",
    "import pickle\n",
    "import itertools \n",
    "import openslide\n",
    "import numpy as np\n",
    "import pandas as pd\n",
    "from utils import *\n",
    "import seaborn as sns\n",
    "# from vgg16 import Vgg16\n",
    "# import tensorflow as tf\n",
    "from _treecnn_utils import *\n",
    "import matplotlib.pyplot as plt\n",
    "from wsi_manager import CropList\n",
    "from matplotlib import cm as plt_cmap\n",
    "from make_heatmaps import make_heatmap\n",
    "from wsi_manager import SectionManager\n",
    "from make_heatmaps import _is_background\n",
    "from make_heatmaps import _batch_iterator\n",
    "from sklearn.metrics import confusion_matrix, f1_score\n",
    "# Disable jedi autocompleter\n",
    "%config Completer.use_jedi = False\n",
    "\n",
    "# os.environ[\"CUDA_VISIBLE_DEVICES\"] = '0'\n",
    "# os.environ[\"TF_FORCE_GPU_ALLOW_GROWTH\"] = 'true'\n",
    "\n",
    "FONTSIZE = 16\n",
    "rootdir = \"/space/ponzio/Morpheme_v2/\"\n",
    "rootdir_output = \"/space/ponzio/Morpheme_v2/results_classification/Pruning\"\n",
    "rootdir_wsi = os.path.join(rootdir, \"data/RCC_WSIs\")\n",
    "if not os.path.exists(rootdir_output):\n",
    "    os.makedirs(rootdir_output)"
   ]
  },
  {
   "cell_type": "markdown",
   "metadata": {},
   "source": [
    "# Prepare test set"
   ]
  },
  {
   "cell_type": "code",
   "execution_count": 2,
   "metadata": {},
   "outputs": [
    {
     "name": "stdout",
     "output_type": "stream",
     "text": [
      "Patients in ROIs test dataset\n",
      "            Patient\n",
      "CancerType         \n",
      "CHROMO            2\n",
      "ONCO              2\n",
      "ccRCC            16\n",
      "pRCC              7\n",
      "\n",
      "10 further patients (only WSIs):\n",
      "HP1213588 ccRCC\n",
      "HP123187 ccRCC\n",
      "HP131799 ccRCC\n",
      "HP145590 ccRCC\n",
      "HP19008963 ONCOCYTOMA\n",
      "HP193695 ccRCC\n",
      "HP195524 ccRCC\n",
      "HP197949 ccRCC\n",
      "HP51171 ONCOCYTOMA\n",
      "HP70605 CHROMO\n",
      "\n",
      "37 patients in total\n"
     ]
    }
   ],
   "source": [
    "#---------------------------------------------------------------------------------------------------------------\n",
    "# Load whole test dataframe\n",
    "# NaiveDT\n",
    "# df_test = pd.read_csv(\"/space/ponzio/Morpheme_v2/data/RandomTree_cc+chr-ONCO+pap_dfs/df-test-whole.csv\")\n",
    "# DRCCTree\n",
    "df_test = pd.read_csv(\"/space/ponzio/Morpheme_v2/data/TreeCNN_Final_DFs_2-folds/df-test-whole.csv\")\n",
    "# RandomTree_cc+CHROMO-ONCO+pRCC\n",
    "# df_test = pd.read_csv(\"/space/ponzio/Morpheme_v2/data/RandomTree_cc+CHROMO-ONCO+pRCC_dfs/df-test-whole.csv\")\n",
    "# RandomTree_cc+ONCO-CHROMO+pRCC\n",
    "# df_test = pd.read_csv(\"/space/ponzio/Morpheme_v2/data/RandomTree_cc+ONCO-CHROMO+pRCC_dfs/df-test-whole.csv\")\n",
    "#---------------------------------------------------------------------------------------------------------------\n",
    "print(\"Patients in ROIs test dataset\")\n",
    "print(pd.pivot_table(df_test, values=\"Patient\", index=\"CancerType\", aggfunc=pd.Series.nunique))\n",
    "\n",
    "patients_test_unique = df_test['Patient'].unique()\n",
    "patients_test_unique_id = [''.join(p.split('.')[0:2]) for p in patients_test_unique]\n",
    "\n",
    "# The following patients are not present in ROIs dataset (only WSIs avaiable)\n",
    "# Possible further patents must be added here\n",
    "patients_not_in_ROIs = [\n",
    "    \"HP195524\",\n",
    "    \"HP1213588\",\n",
    "    \"HP19008963\",\n",
    "    \"HP131799\",\n",
    "    \"HP193695\",\n",
    "    \"HP145590\",\n",
    "    \"HP123187\",\n",
    "    \"HP197949\",\n",
    "    \"HP51171\",\n",
    "    \"HP70605\",\n",
    "#     \"HP1410122\" # Training patient for images in thesis/paper\n",
    "]\n",
    "\n",
    "patients_test_unique_id += patients_not_in_ROIs\n",
    "# Look for test patients in WSIs rootdir\n",
    "# Get all WSIs' filepaths\n",
    "filepaths_wsi = [os.path.join(dp, f) for dp, dn, filenames in os.walk(rootdir_wsi) for f in filenames if \n",
    "                 os.path.basename(f).split('.')[-1] == 'scn' \n",
    "                 or os.path.basename(f).split('.')[-1] == 'svs' \n",
    "                 or os.path.basename(f).split('.')[-1] == 'tif']\n",
    "# filepaths_wsi = [path for path in filepaths_wsi if \"not-in\" not in path]\n",
    "filepaths_wsi_not_in = [path for path in filepaths_wsi if \"not-in\" in path]\n",
    "\n",
    "# Get Patients ID from WSIs\n",
    "patient_wsi_ids = [''.join(os.path.basename(f).split('.')[0:2]) for f in filepaths_wsi]\n",
    "\n",
    "# Get test patients WSIs\n",
    "# N.B. Some patients have more than 1 wsi\n",
    "# Label can be obtained from filepath\n",
    "# '/space/ponzio/Morpheme_v2/data/RCC_WSIs/pre/pRCC/HP09.5392.A16.pRCC.scn' --> Label: pRCC\n",
    "filepaths_wsi_test = list()\n",
    "labels_wsi = list()\n",
    "# Dict to map univocal patient in wsi to univocal patient in test set. Note that some patients have more than one wsi.\n",
    "patient_wsi2test = dict()\n",
    "for patient in patients_test_unique_id:\n",
    "    for patient_wsi_id, filepath_wsi in zip(patient_wsi_ids, filepaths_wsi):\n",
    "        if patient in patient_wsi_id:\n",
    "            patient_wsi2test[patient_wsi_id] = patient\n",
    "            filepaths_wsi_test.append(filepath_wsi)\n",
    "            labels_wsi.append(filepath_wsi.split(os.sep)[-2])\n",
    "            \n",
    "print(\"\\n{} further patients (only WSIs):\".format(len(patients_not_in_ROIs)))\n",
    "for patient in np.unique(patients_not_in_ROIs):\n",
    "    for patient_wsi_id, filepath_wsi in zip(patient_wsi_ids, filepaths_wsi):\n",
    "        if patient in patient_wsi_id:\n",
    "            print(patient, filepath_wsi.split(os.sep)[-2])\n",
    "            break\n",
    "print(\"\\n{} patients in total\".format(len((patients_test_unique_id))))\n",
    "df = pd.DataFrame(patients_test_unique_id, columns=[\"Patient\"], index=None)\n",
    "# df.to_excel(os.path.join(rootdir_output, \"test_patients.xlsx\"))\n",
    "\n",
    "df = pd.DataFrame(filepaths_wsi_test, columns=[\"WSI test id\"], index=None)\n",
    "# df.to_excel(os.path.join(rootdir_output, \"test_wsi.xlsx\"))"
   ]
  },
  {
   "cell_type": "code",
   "execution_count": null,
   "metadata": {},
   "outputs": [],
   "source": [
    "df_test_unique_patients = df_test.drop_duplicates(subset=['Patient'])"
   ]
  },
  {
   "cell_type": "markdown",
   "metadata": {},
   "source": [
    "# Evaluation"
   ]
  },
  {
   "cell_type": "markdown",
   "metadata": {},
   "source": [
    "## ROIs per-patient metrics "
   ]
  },
  {
   "cell_type": "code",
   "execution_count": null,
   "metadata": {},
   "outputs": [],
   "source": [
    "# df_test_duplicated = pd.read_csv((os.path.join(rootdir_output, \"df_predictions_ROIs.csv\")), index_col=0, low_memory=False)\n",
    "# df_test_cancer = df_test_duplicated[df_test_duplicated['CancerBinary-predictions'] == 'cancer']\n",
    "# leaf1_coherent = [leaf in node for leaf, node in zip(df_test_cancer['Leaf1-predictions'], df_test_cancer['Node-predictions'])]\n",
    "# leaf2_coherent = [leaf in node for leaf, node in zip(df_test_cancer['Leaf2-predictions'], df_test_cancer['Node-predictions'])]\n",
    "# preds_leaf1 = df_test_cancer['Leaf1-predictions'][leaf1_coherent]\n",
    "# preds_leaf2 = df_test_cancer['Leaf2-predictions'][leaf2_coherent]\n",
    "# preds_and_patient_leaf1 = df_test_cancer[['Leaf1-predictions', 'Patient']][leaf1_coherent]\n",
    "# preds_and_patient_leaf2 = df_test_cancer[['Leaf2-predictions', 'Patient']][leaf2_coherent]\n",
    "\n",
    "\n",
    "# # Crop-wise \n",
    "# y_true_leaf1 = df_test_cancer['NotCancerAllTumors'][leaf1_coherent]\n",
    "# y_true_leaf2 = df_test_cancer['NotCancerAllTumors'][leaf2_coherent]\n",
    "# y_pred = np.hstack((preds_leaf1.values, preds_leaf2.values))\n",
    "# y_true = np.hstack((y_true_leaf1.values, y_true_leaf2.values))\n",
    "# # Confusion matrix\n",
    "# cm = confusion_matrix(y_true, y_pred, labels=sorted(np.unique(y_pred)))\n",
    "# fig, ax = plt.subplots(1, 1, figsize=(4, 4))\n",
    "# seaborn_cm(cm, ax, sorted(np.unique(y_pred)), fontsize=FONTSIZE)\n",
    "# plt.tight_layout()\n",
    "# filename_cm = f\"TreeCNN (ROIs)\\nImage-wise\"\n",
    "# fig.savefig(os.path.join(rootdir_output, filename_cm))\n",
    "\n",
    "# # Patient-wise\n",
    "# y_true = list()\n",
    "# y_pred = list()\n",
    "# for patient in df_test_duplicated.Patient.unique():\n",
    "#     df_by_patient = df_test_duplicated[df_test_duplicated.Patient == patient]    \n",
    "#     y_true.append(df_by_patient['CancerType'].value_counts().idxmax())\n",
    "#     preds_leaf_1_by_patient = preds_and_patient_leaf1['Leaf1-predictions'][preds_and_patient_leaf1['Patient'] == patient]\n",
    "#     preds_leaf_2_by_patient = preds_and_patient_leaf2['Leaf2-predictions'][preds_and_patient_leaf2['Patient'] == patient]\n",
    "#     statistics = pd.concat([preds_leaf_1_by_patient.value_counts(), \n",
    "#                             preds_leaf_2_by_patient.value_counts()])\n",
    "#     y_pred.append(statistics.idxmax())\n",
    "\n",
    "# # Confusion matrix\n",
    "# cm = confusion_matrix(y_true, y_pred, labels=sorted(np.unique(y_pred)))\n",
    "# fig, ax = plt.subplots(1, 1, figsize=(4, 4))\n",
    "# seaborn_cm(cm, ax, sorted(np.unique(y_pred)), fontsize=FONTSIZE)\n",
    "# plt.tight_layout()\n",
    "# filename_cm = f\"TreeCNN (ROIs)\\nPatient-wise\"\n",
    "# fig.savefig(os.path.join(rootdir_output, filename_cm))"
   ]
  },
  {
   "cell_type": "markdown",
   "metadata": {},
   "source": [
    "## WSIs per-patient metrics "
   ]
  },
  {
   "cell_type": "markdown",
   "metadata": {},
   "source": [
    "### Load crops object for WSIs evaluation"
   ]
  },
  {
   "cell_type": "code",
   "execution_count": 3,
   "metadata": {},
   "outputs": [],
   "source": [
    "#---------------------------------------------------------------------------------------------------------------\n",
    "# NaiveDT\n",
    "# filepath = \"/space/ponzio/Morpheme_v2/results_classification/NaiveDT/crops.pickle\"\n",
    "# DRCCTree\n",
    "# filepath = \"/space/ponzio/Morpheme_v2/results_classification/28-01-2022/DRCCTree/WSIs_test_last/crops_objs_final/test_set_crops_17-04-2021.pickle\"\n",
    "filepath = \"/space/ponzio/Morpheme_v2/results_classification/ExperDt_again_to_check/crops.pickle\"\n",
    "# RandomTree_cc+CHROMO-ONCO+pRCC\n",
    "# filepath = \"/space/ponzio/Morpheme_v2/results_classification/28-01-2022/RandomTree_cc+CHROMO-ONCO+pRCC_results/crops.pickle\"\n",
    "# RandomTree_cc+ONCO-CHROMO+pRCC\n",
    "# filepath = \"/space/ponzio/Morpheme_v2/results_classification/28-01-2022/RandomTree_cc+ONCO-CHROMO+pRCC_results/crops.pickle\"\n",
    "#---------------------------------------------------------------------------------------------------------------\n",
    "with open(filepath, \"rb\") as handle:\n",
    "    crop_obj_list = pickle.load(handle)\n",
    "# crop_obj_list = crops_obj_list_tmp"
   ]
  },
  {
   "cell_type": "markdown",
   "metadata": {},
   "source": [
    "### Evaluate\n",
    "By changing parameters different settings may be tested\n",
    "\n",
    "Optimal configuration\n",
    "    \n",
    "    refine = True, True, True\n",
    "    leaf_given_node_by_patient_forced=False\n",
    "    leaf_given_cancer=True if Node prediction is not sure(i.e. same # of crops classified in cc+p and C+O)\n",
    "\n",
    "N.B.\n",
    "\n",
    "Set `If Node prediction is not sure, pred is done again based on tumor mask` depending on DRCCTree verision"
   ]
  },
  {
   "cell_type": "code",
   "execution_count": 41,
   "metadata": {},
   "outputs": [
    {
     "name": "stderr",
     "output_type": "stream",
     "text": [
      "/space/ponzio/Morpheme_v2/.venv/lib/python3.6/site-packages/ipykernel_launcher.py:26: RuntimeWarning: invalid value encountered in double_scalars\n"
     ]
    },
    {
     "data": {
      "image/png": "[encoded data removed]",
      "text/plain": [
       "<Figure size 288x288 with 1 Axes>"
      ]
     },
     "metadata": {
      "needs_background": "light"
     },
     "output_type": "display_data"
    }
   ],
   "source": [
    "SIZE = (3, 3)\n",
    "for permutation in list(itertools.product([True, False], repeat=3)):\n",
    "    permutation = (True, True, True)\n",
    "    permutation_cpy = permutation\n",
    "    crops_dist_x = list()\n",
    "    crops_dist_y = list()\n",
    "    y_true = list()\n",
    "    y_pred = list()\n",
    "    y_patient = list()\n",
    "    y_true_wsi = list()\n",
    "    y_pred_wsi = list()\n",
    "    y_pred_by_patch = list()\n",
    "    y_true_by_patch = list()\n",
    "    stats_by_patient = dict()\n",
    "    for crop_obj in crop_obj_list:\n",
    "        slide = openslide.OpenSlide(crop_obj.indexes[0]['filepath_slide'])\n",
    "        patient_wsi_id = ''.join(os.path.basename(crop_obj.indexes[0]['filepath_slide']).split('.')[0:2])\n",
    "        p, t, leaves_counter = predict_by_mask(slide, crop_obj, \n",
    "                                               size=SIZE, \n",
    "                                               selective_refine=permutation, \n",
    "                                               leaf_given_node_by_patient_forced=False)\n",
    "        # Note that some patients corresondo to more then one WSI >>>>\n",
    "        patient_id = patient_wsi2test[patient_wsi_id]\n",
    "        # -----------------------------------------------------------------------\n",
    "        # If Node prediction is not sure, pred is done again based on tumor mask\n",
    "        if abs((leaves_counter['ccRCC'] + leaves_counter['pRCC']) - (leaves_counter['CHROMO'] + leaves_counter['ONCO'])) / sum(leaves_counter.values()) < 0.3:\n",
    "        # # if abs((leaves_counter['ccRCC'] + leaves_counter['ONCO']) - (leaves_counter['CHROMO'] + leaves_counter['pRCC'])) / sum(leaves_counter.values()) < 0.3:\n",
    "        # # if abs((leaves_counter['ccRCC'] + leaves_counter['CHROMO']) - (leaves_counter['ONCO'] + leaves_counter['pRCC'])) / sum(leaves_counter.values()) < 0.3:\n",
    "        # # -----------------------------------------------------------------------\n",
    "            if permutation[1] == True:\n",
    "                permutation = (permutation[0], False, permutation[2])\n",
    "            p, t, leaves_counter = predict_by_mask(slide, \n",
    "                                                   crop_obj, \n",
    "                                                   size=SIZE, \n",
    "                                                   selective_refine=permutation, \n",
    "                                                   ignore_root=False,\n",
    "                                                   leaf_given_cancer=True, \n",
    "                                                   verbose=\"\")\n",
    "\n",
    "        # Stats by patients >>>>\n",
    "        if patient_id not in stats_by_patient:\n",
    "            stats_by_patient[patient_id] = (leaves_counter, t)  # Tuple: (leaves_counter, true_label) for eah patient\n",
    "        else:\n",
    "            for k, v in stats_by_patient[patient_id][0].items():\n",
    "                stats_by_patient[patient_id][0][k] = v + leaves_counter[k]\n",
    "        # <<<<\n",
    "\n",
    "    for patient, values in stats_by_patient.items():\n",
    "        y_patient.append(patient)\n",
    "        y_true.append(values[1])\n",
    "        pred = max(values[0],\n",
    "               key=values[0].get) if max(values[0],\n",
    "                                         key=values[0].get) != 'ONCO' else 'ONCOCYTOMA'\n",
    "        y_pred.append(pred)\n",
    "    \n",
    "    # Confusion matrix\n",
    "    filename_cm = f\"Patient-wise\\nleaf_given_cancer=True Node Patient Wise True\\nselective_refine={permutation_cpy}\"\n",
    "    cm = confusion_matrix(y_true, y_pred, labels=sorted(np.unique(y_pred)))\n",
    "    fig, ax = plt.subplots(1, 1, figsize=(4, 4))\n",
    "    seaborn_cm(cm, ax, sorted(np.unique(y_pred)), fontsize=FONTSIZE)\n",
    "    plt.tight_layout()\n",
    "    fig.savefig(os.path.join(rootdir_output, filename_cm))\n",
    "    \n",
    "   \n",
    "    # Save stats into dataframe >>>>      \n",
    "    df = pd.DataFrame()\n",
    "    df['patient'] = y_patient\n",
    "    df['true'] = y_true\n",
    "    df['pred'] = y_pred\n",
    "    break\n",
    "    # <<<<"
   ]
  },
  {
   "cell_type": "code",
   "execution_count": 42,
   "metadata": {},
   "outputs": [],
   "source": [
    "df.to_csv(os.path.join(rootdir_output, \"test_info\" + '.csv'))"
   ]
  },
  {
   "cell_type": "markdown",
   "metadata": {},
   "source": [
    "One line confusion matrix"
   ]
  },
  {
   "cell_type": "code",
   "execution_count": null,
   "metadata": {},
   "outputs": [],
   "source": [
    "def one_line_cm(cm, ax, yticklabels, fontsize=20):\n",
    "    group_counts = [\"{:0.0f}\".format(value) for value in cm[0]]\n",
    "    cm = cm[0] / sum(cm[0])\n",
    "    group_percentages = [\"{:0.0f}\".format(value*100) for value in cm]\n",
    "    cm_labels = [f\"{c}\\n{p}%\" for c, p in zip(group_counts, group_percentages)]\n",
    "    sns.heatmap([cm],\n",
    "                ax=ax,\n",
    "                annot=[cm_labels],\n",
    "                fmt='',\n",
    "                linewidths=1, linecolor='black',\n",
    "                cbar=False,\n",
    "                cmap=plt_cmap.Greys,\n",
    "                annot_kws={\"fontsize\": fontsize},\n",
    "                square=True,\n",
    "                xticklabels=[\"ONCO\", \"chrRCC\", \"ccRCC\", \"papRCC\"],\n",
    "                yticklabels=yticklabels)\n",
    "    ax.set_yticklabels(ax.get_yticklabels(), size=fontsize, rotation=45)\n",
    "    ax.set_xticklabels(ax.get_xticklabels(), size=fontsize, rotation=45)\n",
    "\n",
    "\n",
    "for j, label in enumerate([\"ONCO\", \"chrRCC\", \"ccRCC\", \"papRCC\"]):\n",
    "    fig, ax = plt.subplots(1, 1)\n",
    "    one_line_cm([cm[j, :]], ax, yticklabels=[label])\n",
    "    fig.tight_layout()\n",
    "    fig.savefig(os.path.join(rootdir_output, \"{}-1line_cm.png\".format(label)))"
   ]
  },
  {
   "cell_type": "markdown",
   "metadata": {},
   "source": [
    "### WSIs visualize\n"
   ]
  },
  {
   "cell_type": "markdown",
   "metadata": {},
   "source": [
    "WRONG PRED"
   ]
  },
  {
   "cell_type": "code",
   "execution_count": null,
   "metadata": {},
   "outputs": [],
   "source": [
    "wrong_pred = np.array(y_patient)[np.array(y_true) != np.array(y_pred)]\n",
    "print(wrong_pred)\n",
    "print(np.array(y_true)[np.array(y_true) != np.array(y_pred)])\n",
    "\n",
    "filepaths_all_crops = np.array([c.indexes[0][\"filepath_slide\"] for c in crop_obj_list])\n",
    "wrong_pred = filepaths_all_crops[np.array(y_true_wsi) != np.array(y_pred_wsi)]\n",
    "print(wrong_pred)\n",
    "df_wrong = pd.DataFrame(wrong_pred, columns=[\"WSI id\"], index=None)\n",
    "df_wrong.to_csv(os.path.join(rootdir_output, \"test_patients_wrong_pred.csv\"))"
   ]
  },
  {
   "cell_type": "markdown",
   "metadata": {},
   "source": [
    "CORRECT"
   ]
  },
  {
   "cell_type": "code",
   "execution_count": null,
   "metadata": {},
   "outputs": [],
   "source": [
    "filepaths_all_crops = np.array([c.indexes[0][\"filepath_slide\"] for c in crop_obj_list])\n",
    "correct = filepaths_all_crops[np.array(y_true_wsi) == np.array(y_pred_wsi)]\n",
    "df_correct = pd.DataFrame(correct, columns=[\"WSI id\"], index=None)\n",
    "df_correct.to_excel(os.path.join(rootdir_output, \"test_patients_correct_pred.xlsx\"))"
   ]
  },
  {
   "cell_type": "code",
   "execution_count": null,
   "metadata": {},
   "outputs": [],
   "source": [
    "# filepath_crops_objs = os.path.join(rootdir_output, \"crops_elaborated.pickle\")\n",
    "# with open(filepath_crops_objs, \"wb\") as handle:\n",
    "#     pickle.dump(crop_obj_elaborated, handle)\n",
    "# filepath = os.path.join(rootdir_output, \"crops_HP1410122.pickle\")\n",
    "# filepath = os.path.join(rootdir_output, \"crops_elaborated.pickle\")\n",
    "# with open(filepath, \"rb\") as handle:\n",
    "#     crop_obj_elaborated = pickle.load(handle)\n",
    "crop_obj_elaborated = crop_obj_list"
   ]
  },
  {
   "cell_type": "code",
   "execution_count": null,
   "metadata": {},
   "outputs": [],
   "source": [
    "to_visualize = [df_correct.sample(1)['WSI id'].values[0]]\n",
    "# to_visualize = ['/space/ponzio/Morpheme_v2/data/RCC_WSIs/pre/pRCC/HP13.3201.D1.pRCC.scn',\n",
    "#                 '/space/ponzio/Morpheme_v2/data/RCC_WSIs/pre/ccRCC/HP10.2695.A4.ccRCC.scn',\n",
    "#                 '/space/ponzio/Morpheme_v2/data/RCC_WSIs/pre/ccRCC/HP14.1749.A1.ccRCC.scn',\n",
    "#                 '/space/ponzio/Morpheme_v2/data/RCC_WSIs/pre/ccRCC/HP14.1749.A6.ccRCC.scn',\n",
    "#                 '/space/ponzio/Morpheme_v2/data/RCC_WSIs/pre/ccRCC/HP14.1749.A8.ccRCC.scn',\n",
    "#                 '/space/ponzio/Morpheme_v2/data/RCC_WSIs/pre/ccRCC/HP14.1993.A1.ccRCC.scn',\n",
    "#                 '/space/ponzio/Morpheme_v2/data/RCC_WSIs/pre/ccRCC/HP14.69.2A2.ccRCC.scn',\n",
    "#                 '/space/ponzio/Morpheme_v2/data/RCC_WSIs/pre/ccRCC/HP14.69.2A9.ccRCC.scn',\n",
    "#                 '/space/ponzio/Morpheme_v2/data/RCC_WSIs/ONCOCYTOMA/HP18009209-0-A3-HE_2176.svs',\n",
    "#                 '/space/ponzio/Morpheme_v2/data/RCC_WSIs/pre/ccRCC/HP14.5590.A3.ccRCC.scn'] # Wrong pred\n",
    "\n",
    "output_dir = os.path.join(rootdir_output, \"Heatmaps\")\n",
    "from matplotlib import cm\n",
    "colormaps = [cm.get_cmap(color) for color in ['Reds', 'Greens']]\n",
    "mapping_key = \"CancerBinary_prediction\"\n",
    "for c in crop_obj_elaborated:\n",
    "    for path in to_visualize:\n",
    "        if c.indexes[0]['filepath_slide'] == path:\n",
    "            slide = openslide.OpenSlide(c.indexes[0]['filepath_slide'])\n",
    "            make_heatmap(c,\n",
    "                         slide,\n",
    "                         output_dir,\n",
    "                         [0, 1],\n",
    "                         colormaps,\n",
    "                         single_heatmap=False,\n",
    "                         mapping_key=mapping_key,\n",
    "                         tissue_key='tissue',\n",
    "                         filename_root=os.path.basename(c.indexes[0]['filepath_slide']) + '_' + mapping_key + 'mask_node',\n",
    "                         mask=\"mask_root\",\n",
    "                         save_original=True,\n",
    "                         resolution_level=3)"
   ]
  },
  {
   "cell_type": "code",
   "execution_count": null,
   "metadata": {},
   "outputs": [],
   "source": [
    "to_visualize = df_correct['WSI id'].values\n",
    "from matplotlib import cm\n",
    "colormaps = [cm.get_cmap(color) for color in ['Reds']]\n",
    "mapping_key = \"CancerBinary_prediction\"\n",
    "for c in crop_obj_elaborated:\n",
    "    for path in to_visualize:\n",
    "        if c.indexes[0]['filepath_slide'] == path:\n",
    "            print(path)\n",
    "            try:\n",
    "                dir_name = os.path.join(rootdir_output, \n",
    "                                        \"Heatmaps\",\n",
    "                                        '_'.join(path.split('/')[-1].split('.')[:-1]))\n",
    "                os.makedirs(dir_name)\n",
    "            except:\n",
    "                print(f\"{dir_name} exists.\")\n",
    "            slide = openslide.OpenSlide(c.indexes[0]['filepath_slide'])\n",
    "            make_heatmap(c,\n",
    "                         slide,\n",
    "                         dir_name,\n",
    "                         [0],\n",
    "                         colormaps,\n",
    "                         single_heatmap=False,\n",
    "                         mapping_key=mapping_key,\n",
    "                         tissue_key='tissue',\n",
    "                         filename_root=os.path.basename(c.indexes[0]['filepath_slide']) + '_' + mapping_key + 'mask_node',\n",
    "                         mask=\"mask_root\",\n",
    "                         save_original=False,\n",
    "                         resolution_level=3)"
   ]
  },
  {
   "cell_type": "markdown",
   "metadata": {},
   "source": [
    "## Leaf without root"
   ]
  },
  {
   "cell_type": "markdown",
   "metadata": {},
   "source": [
    "# Comparison"
   ]
  },
  {
   "cell_type": "markdown",
   "metadata": {},
   "source": [
    "## Predict"
   ]
  },
  {
   "cell_type": "code",
   "execution_count": null,
   "metadata": {},
   "outputs": [],
   "source": [
    "# # Load specific weights\n",
    "# path_partial = \"08_04_2021-17_14_16_Baseline_NotCancerAllTumors_benchmarking/fold_0/FTL11_IS(112, 112)_PS(1000, 1000)_LR0.0001_OPTAdam\"\n",
    "# weights_path = os.path.join(\"/space/ponzio/Morpheme_v2/results_classification/\", path_partial, \"weights.hdf5\")\n",
    "# stages = [\"NotCancerAllTumors\"]\n",
    "# labels_categorical_array = [sorted(df_test[stage].dropna().unique()) for stage in stages]\n",
    "\n",
    "# filepath = os.path.join(rootdir_output, \"test_set_crops.pickle\")\n",
    "# with open(filepath, \"rb\") as handle:\n",
    "#     crop_obj_list = pickle.load(handle)\n",
    "# print(\"Len crop list: {}\".format(len(crop_obj_list)))\n",
    "# paths_to_process = [c.indexes[0][\"filepath_slide\"] for c in crop_obj_list]\n",
    "# slides_labels = [c.indexes[0][\"slide_label\"] for c in crop_obj_list]\n",
    "\n",
    "# cropSize = 1000\n",
    "# crops_obj_list_tmp = list()\n",
    "# for path, slide_label in zip(paths_to_process, slides_labels):\n",
    "#     try:\n",
    "#         print(\"Processing: {}\".format(path))\n",
    "#         sections = SectionManager(cropSize, overlap=1)\n",
    "#         crops_obj_list_tmp.append(sections.crop(path, slide_label=slide_label, size=112, save_dir=None))\n",
    "#     except:\n",
    "#         print(\"{} skipped\".format(path))\n",
    "# print(\"Len crop obj to process list: {}\".format(len(crops_obj_list_tmp)))\n",
    "\n",
    "# # Predict\n",
    "# for j, crop_obj in enumerate(crops_obj_list_tmp):\n",
    "#     print(\"{}/{}\".format(j + 1, len(crops_obj_list_tmp)))\n",
    "#     for batch_images, batch_indexes in _batch_iterator(crop_obj,\n",
    "#                                                        crop_obj.indexes,\n",
    "#                                                        1000):\n",
    "#         for weights_path, stage, labels_categorical in zip(weights_paths, \n",
    "#                                                            stages, \n",
    "#                                                            labels_categorical_array):\n",
    "#             vgg16.model.load_weights(weights_path)\n",
    "#             batch_predictions = vgg16.model.predict(tf.keras.applications.vgg16.preprocess_input(np.array(batch_images)))\n",
    "#             for image, index, prediction in zip(batch_images, batch_indexes, batch_predictions):\n",
    "#                 if not _is_background(image):\n",
    "#                     index['tissue'] = True\n",
    "#                     index[f'{stage}_prediction'] = prediction\n",
    "#                     index[f'{stage}_argmax'] = labels_categorical[np.argmax(prediction)]\n",
    "# # Save all crop objs\n",
    "# filepath_crops_objs = os.path.join(rootdir_output, \"baseline_test_crops.pickle\")\n",
    "# with open(filepath_crops_objs, \"wb\") as handle:\n",
    "#     pickle.dump(crops_obj_list_tmp, handle)"
   ]
  },
  {
   "cell_type": "markdown",
   "metadata": {},
   "source": [
    "## Load crop objs"
   ]
  },
  {
   "cell_type": "code",
   "execution_count": null,
   "metadata": {},
   "outputs": [],
   "source": [
    "# filepath = os.path.join(rootdir_output, \"baseline_test_crops.pickle\")\n",
    "# with open(filepath, \"rb\") as handle:\n",
    "#     crop_obj_list = pickle.load(handle)\n",
    "# filepath = os.path.join(rootdir_output, \"baseline_HP70605_crops.pickle\")\n",
    "# with open(filepath, \"rb\") as handle:\n",
    "#     crops_HP70605 = pickle.load(handle)\n",
    "    \n",
    "# crop_obj_list += crops_HP70605\n",
    "\n",
    "# filepath_crops_objs = os.path.join(rootdir_output, \"test_crops_baseline_19-04-2021.pickle\")\n",
    "# with open(filepath_crops_objs, \"wb\") as handle:\n",
    "#     pickle.dump(crop_obj_list, handle)\n",
    "\n",
    "filepath = \"/space/ponzio/Morpheme_v2/results_classification/28-01-2022/DRCCTree/WSIs_test_last/crops_objs_final/test_crops_baseline_19-04-2021.pickle\"\n",
    "with open(filepath, \"rb\") as handle:\n",
    "    crop_obj_list = pickle.load(handle)"
   ]
  },
  {
   "cell_type": "markdown",
   "metadata": {},
   "source": [
    "## Evaluate"
   ]
  },
  {
   "cell_type": "code",
   "execution_count": null,
   "metadata": {},
   "outputs": [],
   "source": [
    "stats_by_patient = dict()\n",
    "y_true = list()\n",
    "y_pred = list()\n",
    "for crop_obj in crop_obj_list:\n",
    "#     try:\n",
    "    slide = openslide.OpenSlide(crop_obj.indexes[0]['filepath_slide'])\n",
    "    _, t, leaves_counter = predict_by_mask(slide, crop_obj, size=(3, 3), is_tree=False, do_refine_not_tree=True, verbose='')\n",
    "    # Note that some patients corresondo to more then one WSI >>>>\n",
    "    patient_wsi_id = ''.join(os.path.basename(crop_obj.indexes[0]['filepath_slide']).split('.')[0:2])\n",
    "    patient_id = patient_wsi2test[patient_wsi_id]\n",
    "\n",
    "    if patient_id not in stats_by_patient:\n",
    "        stats_by_patient[patient_id] = (leaves_counter, t)  # Tuple: (leaves_counter, true_label) for eah patient\n",
    "    else:\n",
    "        for k, v in stats_by_patient[patient_id][0].items():\n",
    "            stats_by_patient[patient_id][0][k] = v + leaves_counter[k]\n",
    "    # <<<<\n",
    "#     except:\n",
    "#         print(\"{} not found\".format(crop_obj.indexes[0]['filepath_slide']))\n",
    "\n",
    "for patient, values in stats_by_patient.items():\n",
    "    y_true.append(values[1])\n",
    "    pred = max(values[0],\n",
    "           key=values[0].get) if max(values[0],\n",
    "                                     key=values[0].get) != 'ONCO' else 'ONCOCYTOMA'\n",
    "    if pred == \"not_cancer\":\n",
    "        x = sorted(((v, k) for k, v in values[0].items()))\n",
    "        pred = x[-2][1]\n",
    "        # Controllo che ci sia effettivamente un valore divero da not_cancer non nullo\n",
    "        if pred == 'ONCO':\n",
    "            pred = 'ONCOCYTOMA'\n",
    "    y_pred.append(pred)"
   ]
  },
  {
   "cell_type": "code",
   "execution_count": null,
   "metadata": {},
   "outputs": [],
   "source": [
    "# # Confusion matrix\n",
    "filename_cm = f\"Baseline - Refine\"\n",
    "cm = confusion_matrix(y_true, y_pred, labels=None)\n",
    "fig, ax = plt.subplots(1, 1, figsize=(4, 4))\n",
    "# seaborn_cm(cm, ax, sorted(np.unique(y_pred)), fontsize=FONTSIZE)\n",
    "seaborn_cm(cm, ax, [\"ONCO\", \"chrRCC\", \"ccRCC\", \"papRCC\"], fontsize=FONTSIZE)\n",
    "plt.tight_layout()\n",
    "fig.savefig(os.path.join(rootdir_output, filename_cm))"
   ]
  }
 ],
 "metadata": {
  "kernelspec": {
   "display_name": "Python 3",
   "language": "python",
   "name": "python3"
  },
  "language_info": {
   "codemirror_mode": {
    "name": "ipython",
    "version": 3
   },
   "file_extension": ".py",
   "mimetype": "text/x-python",
   "name": "python",
   "nbconvert_exporter": "python",
   "pygments_lexer": "ipython3",
   "version": "3.6.9"
  },
  "toc": {
   "base_numbering": 1,
   "nav_menu": {},
   "number_sections": true,
   "sideBar": false,
   "skip_h1_title": false,
   "title_cell": "Table of Contents",
   "title_sidebar": "",
   "toc_cell": true,
   "toc_position": {
    "height": "48.3667px",
    "left": "1221px",
    "top": "52px",
    "width": "100px"
   },
   "toc_section_display": false,
   "toc_window_display": true
  }
 },
 "nbformat": 4,
 "nbformat_minor": 4
}
