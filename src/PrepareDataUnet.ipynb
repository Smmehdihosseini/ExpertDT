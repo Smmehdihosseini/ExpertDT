{
 "cells": [
  {
   "cell_type": "markdown",
   "metadata": {
    "toc": true
   },
   "source": [
    "<h1>Table of Contents<span class=\"tocSkip\"></span></h1>\n",
    "<div class=\"toc\"><ul class=\"toc-item\"><li><span><a href=\"#Settings\" data-toc-modified-id=\"Settings-1\"><span class=\"toc-item-num\">1&nbsp;&nbsp;</span>Settings</a></span></li><li><span><a href=\"#Prepare-dataframe-for-images-and-masks\" data-toc-modified-id=\"Prepare-dataframe-for-images-and-masks-2\"><span class=\"toc-item-num\">2&nbsp;&nbsp;</span>Prepare dataframe for images and masks</a></span></li><li><span><a href=\"#Merge-ccRCC-and-pRCC\" data-toc-modified-id=\"Merge-ccRCC-and-pRCC-3\"><span class=\"toc-item-num\">3&nbsp;&nbsp;</span>Merge ccRCC and pRCC</a></span></li></ul></div>"
   ]
  },
  {
   "cell_type": "code",
   "execution_count": null,
   "metadata": {},
   "outputs": [],
   "source": [
    "import os\n",
    "import pickle\n",
    "import shutil\n",
    "import pandas as pd"
   ]
  },
  {
   "cell_type": "markdown",
   "metadata": {},
   "source": [
    "### Settings"
   ]
  },
  {
   "cell_type": "code",
   "execution_count": null,
   "metadata": {},
   "outputs": [],
   "source": [
    "DATASET_TYPEs = [\"ccRCC\", \"pRCC\"]\n",
    "FOLDs = [\"train\", \"test\"]\n",
    "ROOT_PATH = \"/space/ponzio/Morpheme_v2\"\n",
    "ROOT_PATH_DATA = os.path.join(ROOT_PATH, \"data\")\n",
    "DF_DIR = \"dataframes_vascular_segmentation_26-04-2021\""
   ]
  },
  {
   "cell_type": "markdown",
   "metadata": {},
   "source": [
    "### Prepare dataframe for images and masks"
   ]
  },
  {
   "cell_type": "code",
   "execution_count": null,
   "metadata": {},
   "outputs": [],
   "source": [
    "for DATASET_TYPE in DATASET_TYPEs:\n",
    "    for FOLD in FOLDs:\n",
    "        DIRPATH_DATA_SEGMENTATION = os.path.join(ROOT_PATH_DATA, \"vascular_segmentation/{}/{}\".format(FOLD, DATASET_TYPE))\n",
    "        DIRPATH_DATASET_TYPE = os.path.join(ROOT_PATH_DATA, DATASET_TYPE)\n",
    "        ROOT_PATH_DF = os.path.join(ROOT_PATH_DATA, DF_DIR, DATASET_TYPE, FOLD)\n",
    "        if not os.path.exists(ROOT_PATH_DF):\n",
    "            os.makedirs(ROOT_PATH_DF)\n",
    "        else:\n",
    "            print(\"%s exists yet!\" %ROOT_PATH_DF)\n",
    "        \"\"\"\n",
    "        Folder structure:\n",
    "        Patient\n",
    "            Annotation\n",
    "        \"\"\"\n",
    "        filepath_images = list()\n",
    "        filepath_masks = list()\n",
    "        patients_train = list()\n",
    "        for patient in os.listdir(DIRPATH_DATA_SEGMENTATION):\n",
    "            patients_train += [patient]\n",
    "            for annotation in os.listdir(os.path.join(DIRPATH_DATA_SEGMENTATION, patient)):\n",
    "                filenames = os.listdir(os.path.join(DIRPATH_DATA_SEGMENTATION, patient, annotation))\n",
    "                images = [f for f in filenames if f.endswith(\".png\") and \"seg\" not in f]\n",
    "                masks = [f for f in filenames if f.endswith(\".png\") and \"seg\" in f]\n",
    "                filepath_images += [os.path.join(DIRPATH_DATA_SEGMENTATION, patient, annotation, i) for i in images]\n",
    "                filepath_masks += [os.path.join(DIRPATH_DATA_SEGMENTATION, patient, annotation, m) for m in masks]\n",
    "        filepath_images.sort()\n",
    "        filepath_masks.sort()\n",
    "        images_df = pd.DataFrame(filepath_images, columns=[\"path\"])\n",
    "        masks_df = pd.DataFrame(filepath_masks, columns=[\"path\"])\n",
    "        images_df.to_csv(os.path.join(ROOT_PATH_DF, \"images.csv\"),index=False)\n",
    "        masks_df.to_csv(os.path.join(ROOT_PATH_DF, \"masks.csv\"), index=False)\n",
    "        print(\"{} - {}: found {} images\".format(DATASET_TYPE, FOLD, len(images_df)))\n",
    "        print(\"{} - {}: found {} masks\".format(DATASET_TYPE, FOLD, len(masks_df)))"
   ]
  },
  {
   "cell_type": "markdown",
   "metadata": {},
   "source": [
    "### Merge ccRCC and pRCC"
   ]
  },
  {
   "cell_type": "code",
   "execution_count": null,
   "metadata": {},
   "outputs": [],
   "source": [
    "for FOLD in FOLDs:\n",
    "    DIRPATH_DATA_SEGMENTATION_MERGED = os.path.join(ROOT_PATH_DATA, DF_DIR, \"ccRCC+pRCC\", FOLD)\n",
    "    if not os.path.exists(DIRPATH_DATA_SEGMENTATION_MERGED):\n",
    "        os.makedirs(DIRPATH_DATA_SEGMENTATION_MERGED)\n",
    "    # ccRCC\n",
    "    ROOT_PATH_DF_ccRCC = os.path.join(ROOT_PATH_DATA, DF_DIR, \"ccRCC\", FOLD)\n",
    "    df_ccRCC_images = pd.read_csv(os.path.join(ROOT_PATH_DF_ccRCC, \"images.csv\"))\n",
    "    df_ccRCC_masks = pd.read_csv(os.path.join(ROOT_PATH_DF_ccRCC, \"masks.csv\"))\n",
    "    # pRCC\n",
    "    ROOT_PATH_DF_pRCC = os.path.join(ROOT_PATH_DATA, DF_DIR, \"pRCC\", FOLD)\n",
    "    df_pRCC_images = pd.read_csv(os.path.join(ROOT_PATH_DF_pRCC, \"images.csv\"))\n",
    "    df_pRCC_masks = pd.read_csv(os.path.join(ROOT_PATH_DF_pRCC, \"masks.csv\"))\n",
    "    # Merging\n",
    "    df_images = pd.concat([df_ccRCC_images, df_pRCC_images])\n",
    "    df_masks = pd.concat([df_ccRCC_masks, df_pRCC_masks])\n",
    "    print(FOLD)\n",
    "    print(\"ccRCC + pRCC: found {} images\".format(len(df_images)))\n",
    "    print(\"ccRCC + pRCC: found {} masks\".format(len(df_masks)))\n",
    "    df_images.to_csv(os.path.join(DIRPATH_DATA_SEGMENTATION_MERGED, \"images.csv\"),index=False)\n",
    "    df_masks.to_csv(os.path.join(DIRPATH_DATA_SEGMENTATION_MERGED, \"masks.csv\"), index=False)"
   ]
  }
 ],
 "metadata": {
  "kernelspec": {
   "display_name": "Python 3",
   "language": "python",
   "name": "python3"
  },
  "language_info": {
   "codemirror_mode": {
    "name": "ipython",
    "version": 3
   },
   "file_extension": ".py",
   "mimetype": "text/x-python",
   "name": "python",
   "nbconvert_exporter": "python",
   "pygments_lexer": "ipython3",
   "version": "3.6.9"
  },
  "toc": {
   "base_numbering": 1,
   "nav_menu": {},
   "number_sections": true,
   "sideBar": true,
   "skip_h1_title": false,
   "title_cell": "Table of Contents",
   "title_sidebar": "",
   "toc_cell": true,
   "toc_position": {
    "height": "calc(100% - 180px)",
    "left": "10px",
    "top": "150px",
    "width": "228px"
   },
   "toc_section_display": true,
   "toc_window_display": true
  }
 },
 "nbformat": 4,
 "nbformat_minor": 4
}
