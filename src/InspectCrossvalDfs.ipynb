{
 "cells": [
  {
   "cell_type": "markdown",
   "metadata": {
    "toc": true
   },
   "source": [
    "<h1>Table of Contents<span class=\"tocSkip\"></span></h1>\n",
    "<div class=\"toc\"><ul class=\"toc-item\"><li><span><a href=\"#Functions\" data-toc-modified-id=\"Functions-1\"><span class=\"toc-item-num\">1&nbsp;&nbsp;</span>Functions</a></span></li><li><span><a href=\"#Main\" data-toc-modified-id=\"Main-2\"><span class=\"toc-item-num\">2&nbsp;&nbsp;</span>Main</a></span></li></ul></div>"
   ]
  },
  {
   "cell_type": "code",
   "execution_count": 4,
   "metadata": {},
   "outputs": [],
   "source": [
    "import os\n",
    "import pandas as pd\n",
    "from IPython.display import Markdown, display, HTML\n",
    "%config Completer.use_jedi = False"
   ]
  },
  {
   "cell_type": "markdown",
   "metadata": {},
   "source": [
    "## Functions"
   ]
  },
  {
   "cell_type": "code",
   "execution_count": 2,
   "metadata": {},
   "outputs": [],
   "source": [
    "def printmd(string):\n",
    "    display(Markdown(string))"
   ]
  },
  {
   "cell_type": "markdown",
   "metadata": {},
   "source": [
    "## Main"
   ]
  },
  {
   "cell_type": "code",
   "execution_count": 15,
   "metadata": {},
   "outputs": [
    {
     "data": {
      "text/markdown": [
       "df-test_CancerBinary_fold-0.csv"
      ],
      "text/plain": [
       "<IPython.core.display.Markdown object>"
      ]
     },
     "metadata": {},
     "output_type": "display_data"
    },
    {
     "data": {
      "text/markdown": [
       "| CancerBinary   |   Path |\n",
       "|:---------------|-------:|\n",
       "| cancer         |  19699 |\n",
       "| not_cancer     |   5614 |"
      ],
      "text/plain": [
       "<IPython.core.display.Markdown object>"
      ]
     },
     "metadata": {},
     "output_type": "display_data"
    },
    {
     "data": {
      "text/markdown": [
       "df-test_CancerBinary_fold-1.csv"
      ],
      "text/plain": [
       "<IPython.core.display.Markdown object>"
      ]
     },
     "metadata": {},
     "output_type": "display_data"
    },
    {
     "data": {
      "text/markdown": [
       "| CancerBinary   |   Path |\n",
       "|:---------------|-------:|\n",
       "| cancer         |  18538 |\n",
       "| not_cancer     |   6819 |"
      ],
      "text/plain": [
       "<IPython.core.display.Markdown object>"
      ]
     },
     "metadata": {},
     "output_type": "display_data"
    },
    {
     "data": {
      "text/markdown": [
       "df-test_CancerType_fold-0.csv"
      ],
      "text/plain": [
       "<IPython.core.display.Markdown object>"
      ]
     },
     "metadata": {},
     "output_type": "display_data"
    },
    {
     "data": {
      "text/markdown": [
       "| CancerType   |   Path |\n",
       "|:-------------|-------:|\n",
       "| CHROMO       |   1561 |\n",
       "| ONCO         |   2861 |\n",
       "| ccRCC        |   7727 |\n",
       "| pRCC         |   7550 |"
      ],
      "text/plain": [
       "<IPython.core.display.Markdown object>"
      ]
     },
     "metadata": {},
     "output_type": "display_data"
    },
    {
     "data": {
      "text/markdown": [
       "df-test_CancerType_fold-1.csv"
      ],
      "text/plain": [
       "<IPython.core.display.Markdown object>"
      ]
     },
     "metadata": {},
     "output_type": "display_data"
    },
    {
     "data": {
      "text/markdown": [
       "| CancerType   |   Path |\n",
       "|:-------------|-------:|\n",
       "| CHROMO       |    308 |\n",
       "| ONCO         |    389 |\n",
       "| ccRCC        |  13630 |\n",
       "| pRCC         |   4211 |"
      ],
      "text/plain": [
       "<IPython.core.display.Markdown object>"
      ]
     },
     "metadata": {},
     "output_type": "display_data"
    },
    {
     "data": {
      "text/markdown": [
       "df-test_Leaf1_fold-0.csv"
      ],
      "text/plain": [
       "<IPython.core.display.Markdown object>"
      ]
     },
     "metadata": {},
     "output_type": "display_data"
    },
    {
     "data": {
      "text/markdown": [
       "| Leaf1   |   Path |\n",
       "|:--------|-------:|\n",
       "| ccRCC   |   7727 |\n",
       "| pRCC    |   7550 |"
      ],
      "text/plain": [
       "<IPython.core.display.Markdown object>"
      ]
     },
     "metadata": {},
     "output_type": "display_data"
    },
    {
     "data": {
      "text/markdown": [
       "df-test_Leaf1_fold-1.csv"
      ],
      "text/plain": [
       "<IPython.core.display.Markdown object>"
      ]
     },
     "metadata": {},
     "output_type": "display_data"
    },
    {
     "data": {
      "text/markdown": [
       "| Leaf1   |   Path |\n",
       "|:--------|-------:|\n",
       "| ccRCC   |  13630 |\n",
       "| pRCC    |   4211 |"
      ],
      "text/plain": [
       "<IPython.core.display.Markdown object>"
      ]
     },
     "metadata": {},
     "output_type": "display_data"
    },
    {
     "data": {
      "text/markdown": [
       "df-test_Leaf2_fold-0.csv"
      ],
      "text/plain": [
       "<IPython.core.display.Markdown object>"
      ]
     },
     "metadata": {},
     "output_type": "display_data"
    },
    {
     "data": {
      "text/markdown": [
       "| Leaf2   |   Path |\n",
       "|:--------|-------:|\n",
       "| CHROMO  |   1561 |\n",
       "| ONCO    |   2861 |"
      ],
      "text/plain": [
       "<IPython.core.display.Markdown object>"
      ]
     },
     "metadata": {},
     "output_type": "display_data"
    },
    {
     "data": {
      "text/markdown": [
       "df-test_Leaf2_fold-1.csv"
      ],
      "text/plain": [
       "<IPython.core.display.Markdown object>"
      ]
     },
     "metadata": {},
     "output_type": "display_data"
    },
    {
     "data": {
      "text/markdown": [
       "| Leaf2   |   Path |\n",
       "|:--------|-------:|\n",
       "| CHROMO  |    308 |\n",
       "| ONCO    |    389 |"
      ],
      "text/plain": [
       "<IPython.core.display.Markdown object>"
      ]
     },
     "metadata": {},
     "output_type": "display_data"
    },
    {
     "data": {
      "text/markdown": [
       "df-test_Node_fold-0.csv"
      ],
      "text/plain": [
       "<IPython.core.display.Markdown object>"
      ]
     },
     "metadata": {},
     "output_type": "display_data"
    },
    {
     "data": {
      "text/markdown": [
       "| Node        |   Path |\n",
       "|:------------|-------:|\n",
       "| CHROMO+ONCO |   4422 |\n",
       "| ccRCC+pRCC  |  15277 |"
      ],
      "text/plain": [
       "<IPython.core.display.Markdown object>"
      ]
     },
     "metadata": {},
     "output_type": "display_data"
    },
    {
     "data": {
      "text/markdown": [
       "df-test_Node_fold-1.csv"
      ],
      "text/plain": [
       "<IPython.core.display.Markdown object>"
      ]
     },
     "metadata": {},
     "output_type": "display_data"
    },
    {
     "data": {
      "text/markdown": [
       "| Node        |   Path |\n",
       "|:------------|-------:|\n",
       "| CHROMO+ONCO |    697 |\n",
       "| ccRCC+pRCC  |  17841 |"
      ],
      "text/plain": [
       "<IPython.core.display.Markdown object>"
      ]
     },
     "metadata": {},
     "output_type": "display_data"
    },
    {
     "data": {
      "text/markdown": [
       "df-test_NotCancerAllTumors_fold-0.csv"
      ],
      "text/plain": [
       "<IPython.core.display.Markdown object>"
      ]
     },
     "metadata": {},
     "output_type": "display_data"
    },
    {
     "data": {
      "text/markdown": [
       "| NotCancerAllTumors   |   Path |\n",
       "|:---------------------|-------:|\n",
       "| CHROMO               |   1561 |\n",
       "| ONCO                 |   2861 |\n",
       "| ccRCC                |   7727 |\n",
       "| not_cancer           |   5614 |\n",
       "| pRCC                 |   7550 |"
      ],
      "text/plain": [
       "<IPython.core.display.Markdown object>"
      ]
     },
     "metadata": {},
     "output_type": "display_data"
    },
    {
     "data": {
      "text/markdown": [
       "df-test_NotCancerAllTumors_fold-1.csv"
      ],
      "text/plain": [
       "<IPython.core.display.Markdown object>"
      ]
     },
     "metadata": {},
     "output_type": "display_data"
    },
    {
     "data": {
      "text/markdown": [
       "| NotCancerAllTumors   |   Path |\n",
       "|:---------------------|-------:|\n",
       "| CHROMO               |    308 |\n",
       "| ONCO                 |    389 |\n",
       "| ccRCC                |  13630 |\n",
       "| not_cancer           |   6819 |\n",
       "| pRCC                 |   4211 |"
      ],
      "text/plain": [
       "<IPython.core.display.Markdown object>"
      ]
     },
     "metadata": {},
     "output_type": "display_data"
    },
    {
     "data": {
      "text/markdown": [
       "df-train-balanced_CancerBinary_fold-0.csv"
      ],
      "text/plain": [
       "<IPython.core.display.Markdown object>"
      ]
     },
     "metadata": {},
     "output_type": "display_data"
    },
    {
     "data": {
      "text/markdown": [
       "| CancerBinary   |   Path |\n",
       "|:---------------|-------:|\n",
       "| cancer         |   6819 |\n",
       "| not_cancer     |   6819 |"
      ],
      "text/plain": [
       "<IPython.core.display.Markdown object>"
      ]
     },
     "metadata": {},
     "output_type": "display_data"
    },
    {
     "data": {
      "text/markdown": [
       "df-train-balanced_CancerBinary_fold-1.csv"
      ],
      "text/plain": [
       "<IPython.core.display.Markdown object>"
      ]
     },
     "metadata": {},
     "output_type": "display_data"
    },
    {
     "data": {
      "text/markdown": [
       "| CancerBinary   |   Path |\n",
       "|:---------------|-------:|\n",
       "| cancer         |   5614 |\n",
       "| not_cancer     |   5614 |"
      ],
      "text/plain": [
       "<IPython.core.display.Markdown object>"
      ]
     },
     "metadata": {},
     "output_type": "display_data"
    },
    {
     "data": {
      "text/markdown": [
       "df-train-balanced_CancerType_fold-0.csv"
      ],
      "text/plain": [
       "<IPython.core.display.Markdown object>"
      ]
     },
     "metadata": {},
     "output_type": "display_data"
    },
    {
     "data": {
      "text/markdown": [
       "| CancerType   |   Path |\n",
       "|:-------------|-------:|\n",
       "| CHROMO       |    308 |\n",
       "| ONCO         |    308 |\n",
       "| ccRCC        |    308 |\n",
       "| pRCC         |    308 |"
      ],
      "text/plain": [
       "<IPython.core.display.Markdown object>"
      ]
     },
     "metadata": {},
     "output_type": "display_data"
    },
    {
     "data": {
      "text/markdown": [
       "df-train-balanced_CancerType_fold-1.csv"
      ],
      "text/plain": [
       "<IPython.core.display.Markdown object>"
      ]
     },
     "metadata": {},
     "output_type": "display_data"
    },
    {
     "data": {
      "text/markdown": [
       "| CancerType   |   Path |\n",
       "|:-------------|-------:|\n",
       "| CHROMO       |   1561 |\n",
       "| ONCO         |   1561 |\n",
       "| ccRCC        |   1561 |\n",
       "| pRCC         |   1561 |"
      ],
      "text/plain": [
       "<IPython.core.display.Markdown object>"
      ]
     },
     "metadata": {},
     "output_type": "display_data"
    },
    {
     "data": {
      "text/markdown": [
       "df-train-balanced_Leaf1_fold-0.csv"
      ],
      "text/plain": [
       "<IPython.core.display.Markdown object>"
      ]
     },
     "metadata": {},
     "output_type": "display_data"
    },
    {
     "data": {
      "text/markdown": [
       "| Leaf1   |   Path |\n",
       "|:--------|-------:|\n",
       "| ccRCC   |   4211 |\n",
       "| pRCC    |   4211 |"
      ],
      "text/plain": [
       "<IPython.core.display.Markdown object>"
      ]
     },
     "metadata": {},
     "output_type": "display_data"
    },
    {
     "data": {
      "text/markdown": [
       "df-train-balanced_Leaf1_fold-1.csv"
      ],
      "text/plain": [
       "<IPython.core.display.Markdown object>"
      ]
     },
     "metadata": {},
     "output_type": "display_data"
    },
    {
     "data": {
      "text/markdown": [
       "| Leaf1   |   Path |\n",
       "|:--------|-------:|\n",
       "| ccRCC   |   7550 |\n",
       "| pRCC    |   7550 |"
      ],
      "text/plain": [
       "<IPython.core.display.Markdown object>"
      ]
     },
     "metadata": {},
     "output_type": "display_data"
    },
    {
     "data": {
      "text/markdown": [
       "df-train-balanced_Leaf2_fold-0.csv"
      ],
      "text/plain": [
       "<IPython.core.display.Markdown object>"
      ]
     },
     "metadata": {},
     "output_type": "display_data"
    },
    {
     "data": {
      "text/markdown": [
       "| Leaf2   |   Path |\n",
       "|:--------|-------:|\n",
       "| CHROMO  |    308 |\n",
       "| ONCO    |    308 |"
      ],
      "text/plain": [
       "<IPython.core.display.Markdown object>"
      ]
     },
     "metadata": {},
     "output_type": "display_data"
    },
    {
     "data": {
      "text/markdown": [
       "df-train-balanced_Leaf2_fold-1.csv"
      ],
      "text/plain": [
       "<IPython.core.display.Markdown object>"
      ]
     },
     "metadata": {},
     "output_type": "display_data"
    },
    {
     "data": {
      "text/markdown": [
       "| Leaf2   |   Path |\n",
       "|:--------|-------:|\n",
       "| CHROMO  |   1561 |\n",
       "| ONCO    |   1561 |"
      ],
      "text/plain": [
       "<IPython.core.display.Markdown object>"
      ]
     },
     "metadata": {},
     "output_type": "display_data"
    },
    {
     "data": {
      "text/markdown": [
       "df-train-balanced_Node_fold-0.csv"
      ],
      "text/plain": [
       "<IPython.core.display.Markdown object>"
      ]
     },
     "metadata": {},
     "output_type": "display_data"
    },
    {
     "data": {
      "text/markdown": [
       "| Node        |   Path |\n",
       "|:------------|-------:|\n",
       "| CHROMO+ONCO |    697 |\n",
       "| ccRCC+pRCC  |    697 |"
      ],
      "text/plain": [
       "<IPython.core.display.Markdown object>"
      ]
     },
     "metadata": {},
     "output_type": "display_data"
    },
    {
     "data": {
      "text/markdown": [
       "df-train-balanced_Node_fold-1.csv"
      ],
      "text/plain": [
       "<IPython.core.display.Markdown object>"
      ]
     },
     "metadata": {},
     "output_type": "display_data"
    },
    {
     "data": {
      "text/markdown": [
       "| Node        |   Path |\n",
       "|:------------|-------:|\n",
       "| CHROMO+ONCO |   4422 |\n",
       "| ccRCC+pRCC  |   4422 |"
      ],
      "text/plain": [
       "<IPython.core.display.Markdown object>"
      ]
     },
     "metadata": {},
     "output_type": "display_data"
    },
    {
     "data": {
      "text/markdown": [
       "df-train-balanced_NotCancerAllTumors_fold-0.csv"
      ],
      "text/plain": [
       "<IPython.core.display.Markdown object>"
      ]
     },
     "metadata": {},
     "output_type": "display_data"
    },
    {
     "data": {
      "text/markdown": [
       "| NotCancerAllTumors   |   Path |\n",
       "|:---------------------|-------:|\n",
       "| CHROMO               |    308 |\n",
       "| ONCO                 |    308 |\n",
       "| ccRCC                |    308 |\n",
       "| not_cancer           |    308 |\n",
       "| pRCC                 |    308 |"
      ],
      "text/plain": [
       "<IPython.core.display.Markdown object>"
      ]
     },
     "metadata": {},
     "output_type": "display_data"
    },
    {
     "data": {
      "text/markdown": [
       "df-train-balanced_NotCancerAllTumors_fold-1.csv"
      ],
      "text/plain": [
       "<IPython.core.display.Markdown object>"
      ]
     },
     "metadata": {},
     "output_type": "display_data"
    },
    {
     "data": {
      "text/markdown": [
       "| NotCancerAllTumors   |   Path |\n",
       "|:---------------------|-------:|\n",
       "| CHROMO               |   1561 |\n",
       "| ONCO                 |   1561 |\n",
       "| ccRCC                |   1561 |\n",
       "| not_cancer           |   1561 |\n",
       "| pRCC                 |   1561 |"
      ],
      "text/plain": [
       "<IPython.core.display.Markdown object>"
      ]
     },
     "metadata": {},
     "output_type": "display_data"
    },
    {
     "name": "stdout",
     "output_type": "stream",
     "text": [
      "0 overlapping patients between train and test\n",
      "Train patients (64 in tot):\n",
      "['HP10.9650.pRCC.scn' 'HP11.6090.pRCC.scn' 'HP12.5904.pRCC.scn'\n",
      " 'HP12.7601.pRCC.scn' 'HP12.7726.pRCC.scn' 'HP13.3201.pRCC.scn'\n",
      " 'HP13.3311.pRCC.scn' 'HP14.10122.pRCC.scn' 'HP14.8231.pRCC.scn'\n",
      " 'HP15.9102.pRCC.scn' 'HP17.11714.pRCC.scn' 'HP17.7980.pRCC.scn'\n",
      " 'HP18.11474.pRCC.scn' 'HP18.5818.pRCC.scn' 'HP19.1277.pRCC.scn'\n",
      " 'HP19.1773.pRCC.scn' 'HP10.2695.ccRCC.scn' 'HP10.2986.ccRCC.scn'\n",
      " 'HP10.5813.ccRCC.scn' 'HP11.12277.ccRCC.scn' 'HP11.12318.ccRCC.scn'\n",
      " 'HP12.13358.ccRCC.scn' 'HP12.3187.ccRCC.scn' 'HP12.4271.ccRCC.scn'\n",
      " 'HP12.5998.ccRCC.scn' 'HP12.6691.ccRCC.scn' 'HP12.7225.ccRCC.scn'\n",
      " 'HP12.8355.ccRCC.scn' 'HP12.8793.ccRCC.scn' 'HP12.9282.ccRCC.scn'\n",
      " 'HP13.1799.ccRCC.scn' 'HP13.6992.ccRCC.scn' 'HP13.7465.ccRCC.scn'\n",
      " 'HP14.11034.ccRCC.scn' 'HP14.13101.ccRCC.scn' 'HP14.1749.ccRCC.scn'\n",
      " 'HP14.1993.ccRCC.scn' 'HP14.5347.ccRCC.scn' 'HP14.5590.ccRCC.scn'\n",
      " 'HP14.69.ccRCC.scn' 'HP14.7813.ccRCC.scn' 'HP14.9097.ccRCC.scn'\n",
      " 'HP14.9685.ccRCC.scn' 'HP15.11259.ccRCC.scn' 'HP15.2902.ccRCC.scn'\n",
      " 'HP16.6211.ccRCC.scn' 'HP16.819.ccRCC.scn' 'H19.754.ccRCC.scn'\n",
      " 'HP19.10064.ccRCC.scn' 'HP19.4075.ccRCC.scn' 'HP19.5254.ccRCC.scn'\n",
      " 'HP19.7715.ccRCC.scn' 'HP19.7840.ccRCC.scn' 'HP19.7949.ccRCC.scn'\n",
      " 'HP19.9421.ccRCC.scn' 'HP20002450' 'HP20001530' 'HP20.5602' 'HP18009209'\n",
      " 'HP17008718' 'HP20002300' 'HP18014084' 'HP19012316' 'HP20.2506']\n",
      "Test patients(22 in tot):\n",
      "['HP09.5392.pRCC.scn' 'HP12.6710.pRCC.scn' 'HP14.2377.pRCC.scn'\n",
      " 'HP14.4279.pRCC.scn' 'HP14.5971.pRCC.scn' 'HP18.13618.pRCC.scn'\n",
      " 'HP02.10180.ccRCC.scn' 'HP12.390.ccRCC.scn' 'HP12.6073.ccRCC.scn'\n",
      " 'HP15.12550.ccRCC.scn' 'HP15.1480.ccRCC.scn' 'HP16.6209.ccRCC.scn'\n",
      " 'HP19.2434.ccRCC.scn' 'HP19.3695.ccRCC.scn' 'HP19.4372.ccRCC.scn'\n",
      " 'HP19.7421.ccRCC.scn' 'HP19.754.ccRCC.scn' 'HP19.7864.ccRCC.scn'\n",
      " 'HP19.8394.ccRCC.scn' 'HP19.9347.ccRCC.scn' 'HP19.999.ccRCC.scn'\n",
      " 'HP18005453']\n"
     ]
    }
   ],
   "source": [
    "ROOTPATH = \"/space/ponzio/Morpheme_v2/\"\n",
    "ROOTPATH_DATASET = os.path.join(ROOTPATH, \"data\")\n",
    "ROOTPATH_DF = os.path.join(ROOTPATH_DATASET, \"TreeCNN_DFs_2-folds\")\n",
    "\n",
    "filepaths = list()\n",
    "filepaths_whole = list()\n",
    "for file in os.listdir(ROOTPATH_DF):\n",
    "    # Exclude whole dataset (train and test). Note that train is used for params tuning in a crossval setting.\n",
    "    if file.endswith(\".csv\") and \"whole\" not in file:\n",
    "        filepaths.append(os.path.join(ROOTPATH_DF, file))\n",
    "for path in sorted(filepaths):\n",
    "    df = pd.read_csv(path)\n",
    "    label = os.path.basename(path).split('_')[1]\n",
    "    printmd(os.path.basename(path))\n",
    "    printmd(pd.pivot_table(df, values=\"Path\", index=label, aggfunc=\"count\", dropna=False).to_markdown())\n",
    "    # N.B. pivot_table does not count NaN !\n",
    "    if df[label].isnull().sum().max() > 0:\n",
    "        print(\"{} has {} NaN for label {}\".format(path, df[label].isnull().sum().max(), label))\n",
    "\n",
    "df_train_whole = pd.read_csv(os.path.join(ROOTPATH_DF, \"df-train-whole.csv\"))\n",
    "df_test_whole = pd.read_csv(os.path.join(ROOTPATH_DF, \"df-test-whole.csv\"))\n",
    "# Check common pateints between train and test\n",
    "print(\"{} overlapping patients between train and test\".format(len(set(df_train_whole.Patient) & set(df_test_whole.Patient))))\n",
    "print(\"Train patients ({} in tot):\".format(len(df_train_whole.Patient.unique())))\n",
    "print(df_train_whole.Patient.unique())\n",
    "print(\"Test patients({} in tot):\".format(len(df_test_whole.Patient.unique())))\n",
    "print(df_test_whole.Patient.unique())"
   ]
  }
 ],
 "metadata": {
  "kernelspec": {
   "display_name": "Python 3",
   "language": "python",
   "name": "python3"
  },
  "language_info": {
   "codemirror_mode": {
    "name": "ipython",
    "version": 3
   },
   "file_extension": ".py",
   "mimetype": "text/x-python",
   "name": "python",
   "nbconvert_exporter": "python",
   "pygments_lexer": "ipython3",
   "version": "3.6.9"
  },
  "toc": {
   "base_numbering": 1,
   "nav_menu": {},
   "number_sections": true,
   "sideBar": true,
   "skip_h1_title": false,
   "title_cell": "Table of Contents",
   "title_sidebar": "",
   "toc_cell": true,
   "toc_position": {
    "height": "calc(100% - 180px)",
    "left": "10px",
    "top": "150px",
    "width": "352px"
   },
   "toc_section_display": true,
   "toc_window_display": true
  }
 },
 "nbformat": 4,
 "nbformat_minor": 4
}
