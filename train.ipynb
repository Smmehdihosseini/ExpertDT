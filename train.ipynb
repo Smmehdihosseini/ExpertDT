{
 "cells": [
  {
   "cell_type": "code",
   "execution_count": null,
   "metadata": {},
   "outputs": [],
   "source": [
    "import os\n",
    "import pandas as pd\n",
    "\n",
    "# Set The Desired GPU Device for Server\n",
    "runtime_gpu_id = 0\n",
    "os.environ[\"CUDA_VISIBLE_DEVICES\"] = str(runtime_gpu_id)\n",
    "\n",
    "# CPU Thread Limitations for Server\n",
    "os.environ[\"OMP_NUM_THREADS\"] = \"4\"\n",
    "os.environ[\"OPENBLAS_NUM_THREADS\"] = \"4\"\n",
    "os.environ[\"MKL_NUM_THREADS\"] = \"4\"\n",
    "os.environ[\"VECLIB_MAXIMUM_THREADS\"] = \"4\"\n",
    "os.environ[\"NUMEXPR_NUM_THREADS\"] = \"4\"\n",
    "\n",
    "import tensorflow as tf\n",
    "\n",
    "from dataset.dataset import CropDataset, CropDatasetCached\n",
    "from model.vgg16 import Vgg16\n",
    "\n",
    "limit_gb = 4\n",
    "gpu_limit = 1024*limit_gb\n",
    "gpus = tf.config.experimental.list_physical_devices('GPU')\n",
    "tf.config.experimental.set_virtual_device_configuration(gpus[runtime_gpu_id], [tf.config.experimental.VirtualDeviceConfiguration(memory_limit=gpu_limit)])"
   ]
  },
  {
   "cell_type": "code",
   "execution_count": null,
   "metadata": {},
   "outputs": [],
   "source": [
    "stage = \"Leaf1\"\n",
    "dfs_dir = \"_dfs/\"\n",
    "cache_dir = \"E:\\cache_img\"\n",
    "level = 0\n",
    "crop_size = (112, 112)\n",
    "batch_size = 128\n",
    "n_classes = 2"
   ]
  },
  {
   "cell_type": "code",
   "execution_count": null,
   "metadata": {},
   "outputs": [],
   "source": [
    "stage_data = pd.read_csv(f\"{dfs_dir}{stage}_data.csv\")\n",
    "dataset = CropDatasetCached(dataframe=stage_data, cache_dir=cache_dir, level=level, crop_size=crop_size, batch_size=batch_size, n_classes=n_classes)\n",
    "dataset.process_and_cache_all_images()"
   ]
  },
  {
   "cell_type": "code",
   "execution_count": null,
   "metadata": {},
   "outputs": [],
   "source": [
    "tf_dataset = dataset.get_dataset()"
   ]
  },
  {
   "cell_type": "code",
   "execution_count": null,
   "metadata": {},
   "outputs": [],
   "source": [
    "dataset.plot_sample(1000)"
   ]
  },
  {
   "cell_type": "code",
   "execution_count": null,
   "metadata": {},
   "outputs": [],
   "source": [
    "vgg16 = Vgg16(input_shape=(112, 112, 3), n_classes=2, first_trained_layer=11)\n",
    "vgg16.compile(learning_rate=1e-5,\n",
    "                    loss='categorical_crossentropy',\n",
    "                    metrics=['accuracy'])\n",
    "\n",
    "# Configure early stopping\n",
    "early_stopping = tf.keras.callbacks.EarlyStopping(monitor='loss', patience=20, verbose=1)\n",
    "\n",
    "# Train the model, setting batch_size directly in model.fit()\n",
    "vgg16.fit(tf_dataset,\n",
    "            epochs=150,\n",
    "            callbacks=[early_stopping])"
   ]
  }
 ],
 "metadata": {
  "kernelspec": {
   "display_name": "morph",
   "language": "python",
   "name": "python3"
  },
  "language_info": {
   "codemirror_mode": {
    "name": "ipython",
    "version": 3
   },
   "file_extension": ".py",
   "mimetype": "text/x-python",
   "name": "python",
   "nbconvert_exporter": "python",
   "pygments_lexer": "ipython3",
   "version": "3.9.18"
  }
 },
 "nbformat": 4,
 "nbformat_minor": 2
}
