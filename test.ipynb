{
 "cells": [
  {
   "cell_type": "code",
   "execution_count": 6,
   "metadata": {},
   "outputs": [],
   "source": [
    "import pandas as pd\n",
    "import json\n",
    "import argparse\n",
    "import random\n",
    "import numpy as np\n",
    "from scipy import ndimage\n",
    "\n",
    "\n",
    "from utils.data_split import patient_split\n",
    "\n",
    "with open(\"_info/default_path.json\", 'r') as file:\n",
    "            default_dirs = json.load(file)\n",
    "\n",
    "if __name__=='__main__':\n",
    "        \n",
    "    parser = argparse.ArgumentParser(description=\"ExpertDT Test\")\n",
    "\n",
    "    parser.add_argument(\"--root_dir\", type=str, default=default_dirs['root_dir'], help=\"Root WSIs Folder\")\n",
    "    parser.add_argument(\"--ids_dir\", type=str, default=default_dirs['ids_dir'], help=\"Path to Patient IDs File\")\n",
    "    parser.add_argument(\"--split_dir\", type=str, default=default_dirs['split_dir'], help=\"Patient args.level Train/Test Split\")\n",
    "    parser.add_argument(\"--split_ids_dir\", type=str, default=default_dirs['split_ids_dir'], help=\"Split Data IDs\")\n",
    "\n",
    "    # Load ID Split List\n",
    "    parser.add_argument(\"--load_id_list\", type=bool, default=True, help=\"Load ID Split List, False Results to Create and Save New List File\")\n",
    "\n",
    "    # Verbose Argument\n",
    "    parser.add_argument(\"--verbose\", type=bool, default=True, help=\"Verbose Print Details\")\n",
    "\n",
    "    # Cropping Arguments\n",
    "    parser.add_argument(\"--crop_size\", type=int, default=1000, help=\"Patches Crop Size During Cropping Stage\")\n",
    "    parser.add_argument(\"--wsi_args.level\", type=int, default=0, help=\"Whole Slide Image args.level of Magnification During Cropping Stage\")\n",
    "    parser.add_argument(\"--overlap\", type=int, default=1, help=\"Patches args.overlap During Cropping Stage; 1: No args.overlap, 2: 50%, etc.\")\n",
    "    parser.add_argument(\"--wsi_formats\", nargs=3, type=str, default=['scn', 'svs', 'tif'], help=\"Possible Formats for Whole Slide Image\")\n",
    "\n",
    "    parser.add_argument(\"--random_seed\", type=int, default=42, help=\"Random Seed for Reproducibility\")\n",
    "\n",
    "    args = parser.parse_args(args=[])\n",
    "\n",
    "    random.seed(args.random_seed)\n"
   ]
  },
  {
   "cell_type": "code",
   "execution_count": 7,
   "metadata": {},
   "outputs": [
    {
     "name": "stdout",
     "output_type": "stream",
     "text": [
      "\n",
      ">>> Loading Patient IDs ...\n",
      "\n"
     ]
    }
   ],
   "source": [
    "if args.verbose:\n",
    "    print(\"\\n>>> Loading Patient IDs ...\\n\")\n",
    "\n",
    "ids_df = pd.read_csv(args.ids_dir)"
   ]
  },
  {
   "cell_type": "code",
   "execution_count": 8,
   "metadata": {},
   "outputs": [
    {
     "name": "stdout",
     "output_type": "stream",
     "text": [
      "            Train  Test\n",
      "ccRCC          33    23\n",
      "pRCC           15     7\n",
      "CHROMO          3     3\n",
      "ONCOCYTOMA      3     4\n"
     ]
    }
   ],
   "source": [
    "try:\n",
    "    with open(args.split_dir, 'r') as file:\n",
    "        split_ratio = json.load(file)\n",
    "except:\n",
    "    raise FileNotFoundError(\"No Split Ratio JSON File in './_info/' folder.\")\n",
    "\n",
    "if args.verbose:\n",
    "    print(pd.DataFrame(split_ratio))"
   ]
  },
  {
   "cell_type": "code",
   "execution_count": 9,
   "metadata": {},
   "outputs": [
    {
     "name": "stdout",
     "output_type": "stream",
     "text": [
      "\n",
      ">>> Loading/Creating Train Test ID Split File ...\n",
      ">>> Loading Split IDs from '_info/split_ids.json'!\n"
     ]
    }
   ],
   "source": [
    "if args.verbose:\n",
    "    print(\"\\n>>> Loading/Creating Train Test ID Split File ...\")\n",
    "\n",
    "train_test_ids = patient_split(data_df=ids_df,\n",
    "                                split_ratio=split_ratio,\n",
    "                                random_seed=args.random_seed,\n",
    "                                load=args.load_id_list,\n",
    "                                ids_dir=args.split_ids_dir)"
   ]
  },
  {
   "cell_type": "code",
   "execution_count": 10,
   "metadata": {},
   "outputs": [
    {
     "data": {
      "text/plain": [
       "{'ccRCC': [1,\n",
       "  2,\n",
       "  7,\n",
       "  10,\n",
       "  14,\n",
       "  18,\n",
       "  20,\n",
       "  21,\n",
       "  22,\n",
       "  23,\n",
       "  28,\n",
       "  29,\n",
       "  35,\n",
       "  37,\n",
       "  38,\n",
       "  39,\n",
       "  40,\n",
       "  42,\n",
       "  43,\n",
       "  45,\n",
       "  49,\n",
       "  51,\n",
       "  55],\n",
       " 'pRCC': [62, 63, 65, 66, 70, 75, 77],\n",
       " 'CHROMO': [78, 79, 80],\n",
       " 'ONCOCYTOMA': [84, 85, 89, 90]}"
      ]
     },
     "execution_count": 10,
     "metadata": {},
     "output_type": "execute_result"
    }
   ],
   "source": [
    "train_test_ids['Test']"
   ]
  },
  {
   "cell_type": "code",
   "execution_count": 11,
   "metadata": {},
   "outputs": [
    {
     "data": {
      "text/plain": [
       "(array([[1, 1, 0, 0, 0],\n",
       "        [1, 0, 0, 0, 1],\n",
       "        [0, 0, 1, 1, 1],\n",
       "        [0, 1, 1, 0, 0],\n",
       "        [1, 1, 0, 0, 1]]),\n",
       " array([[1, 1, 0, 0, 0],\n",
       "        [1, 0, 0, 0, 1],\n",
       "        [0, 0, 0, 1, 1],\n",
       "        [0, 1, 1, 1, 1],\n",
       "        [1, 1, 0, 0, 0]]))"
      ]
     },
     "execution_count": 11,
     "metadata": {},
     "output_type": "execute_result"
    }
   ],
   "source": [
    "# Define the initial classification numpy array\n",
    "input_image = np.array([\n",
    "    [1, 1, 0, 0, 0],\n",
    "    [1, 0, 0, 0, 1],\n",
    "    [0, 0, 1, 1, 1],\n",
    "    [0, 1, 1, 0, 0],\n",
    "    [1, 1, 0, 0, 1]\n",
    "])\n",
    "\n",
    "def _most_frequent(x):\n",
    "    central = x[x.size // 2]\n",
    "    values, counts = np.unique(x, return_counts=True)\n",
    "    max_freq = counts.max()\n",
    "    modes = values[counts == max_freq]\n",
    "    if central in modes:\n",
    "        return central\n",
    "    else:\n",
    "        return modes[0]\n",
    "\n",
    "size = (3, 3)  # Defining the neighborhood size\n",
    "\n",
    "# Apply the refinement function\n",
    "refined_image = ndimage.generic_filter(input_image, _most_frequent, size=size)\n",
    "\n",
    "input_image, refined_image"
   ]
  },
  {
   "cell_type": "code",
   "execution_count": 4,
   "metadata": {},
   "outputs": [],
   "source": [
    "import os\n",
    "import tensorflow as tf\n",
    "from keras.applications import VGG16\n",
    "from keras.layers import Dense, GlobalAveragePooling2D, Dropout\n",
    "from keras.models import Model\n",
    "\n",
    "class Vgg16:\n",
    "    def __init__(self, input_shape, n_classes, first_trained_layer=None, save_dir='_weights'):\n",
    "\n",
    "        self.input_shape = input_shape\n",
    "        self.n_classes = n_classes\n",
    "        self.first_trained_layer = first_trained_layer\n",
    "        self.model = self.build_model()\n",
    "        self.save_dir = save_dir\n",
    "\n",
    "    def build_model(self):\n",
    "\n",
    "        vgg16 = VGG16(include_top=False, input_shape=self.input_shape, weights='imagenet')\n",
    "\n",
    "        # Freeze the specified first layers\n",
    "        if self.first_trained_layer is not None:\n",
    "            for layer in vgg16.layers[:self.first_trained_layer]:\n",
    "                layer.trainable = False\n",
    "\n",
    "        x = vgg16.output\n",
    "        x = GlobalAveragePooling2D()(x)\n",
    "        x = Dense(1024, activation='relu')(x) \n",
    "        x = Dropout(0.5)(x)\n",
    "        predictions = Dense(self.n_classes, activation='softmax')(x) \n",
    "\n",
    "        # Creating the final model\n",
    "        model = Model(inputs=vgg16.input, outputs=predictions)\n",
    "\n",
    "        return model\n",
    "\n",
    "    def compile(self,\n",
    "                learning_rate=1e-5,\n",
    "                loss='categorical_crossentropy',\n",
    "                metrics=['accuracy']):\n",
    "        \n",
    "        self.model.compile(optimizer=tf.keras.optimizers.Adam(learning_rate=learning_rate),\n",
    "                           loss=loss,\n",
    "                           metrics=metrics)\n",
    "\n",
    "    def fit(self, data, epochs, callbacks):\n",
    "\n",
    "        self.model.fit(data,\n",
    "                       epochs=epochs,\n",
    "                       callbacks=[callbacks])\n",
    "\n",
    "    def summary(self):\n",
    "        self.model.summary()\n",
    "\n",
    "    def save_weights(self):\n",
    "\n",
    "        if not os.path.exists(self.save_dir):\n",
    "            os.makedirs(self.save_dir)\n",
    "        \n",
    "        # Define the path for saving the weights\n",
    "        weights_path = os.path.join(self.save_dir, 'vgg16_weights.h5')\n",
    "        \n",
    "        # Save the model's weights\n",
    "        self.model.save_weights(weights_path)\n",
    "        print(f'Model weights saved to: {weights_path}')\n",
    "\n",
    "    def load_weights(self, weights_path):\n",
    "\n",
    "        self.model.load_weights(weights_path)\n",
    "        print(f'>>> Succesfully Loaded Weights ...')\n",
    "\n",
    "    def predict(self, input):\n",
    "\n",
    "        if input.ndim == 3:\n",
    "            input = np.expand_dims(input, axis=0)\n",
    "\n",
    "        predictions = self.model.predict(input, verbose=0)\n",
    "\n",
    "        return predictions"
   ]
  },
  {
   "cell_type": "code",
   "execution_count": 5,
   "metadata": {},
   "outputs": [],
   "source": [
    "\n",
    "        # if stage==\"Root\":\n",
    "        #     arrays = [self.root_array, self.root_refined_array]\n",
    "        #     titles = ['Root', 'Refined Root']\n",
    "        #     stage_colors = [(0.5, 0.5, 0.5, alpha), (0, 1, 0, alpha), (1, 1, 0, alpha)]\n",
    "        #     ytick_labels = ['-1 (Background)', '0 (Tumor)', '1 (Non-Tumor)']\n",
    "        #     label_dict = {\"-1\": \"Background\", \"0\": \"Non-Tumor\", \"1\": \"Tumor\"}\n",
    "\n",
    "        # elif stage==\"Node\":\n",
    "        #     arrays = [self.node_array, self.node_refined_array]\n",
    "        #     titles = ['Node', 'Refined Node']\n",
    "        #     stage_colors = [(0.5, 0.5, 0.5, alpha), (0, 0, 1, alpha), (1, 0, 0, alpha)]\n",
    "        #     ytick_labels = ['-1 (Background)', '0 (ccRCC/pRCC)', '1 (CHROMO/ONCO)']\n",
    "        #     label_dict = {\"-1\": \"Background\", \"0\": \"Non-Tumor\", \"1\": \"Tumor\", \"2\":\"CHROMO\"}\n",
    "\n",
    "        # elif stage==\"Leaf1\":\n",
    "        #     arrays = [self.leaf1_array, self.leaf1_refined_array]\n",
    "        #     titles = ['Leaf 1', 'Refined Leaf 1']\n",
    "        #     stage_colors = [(0.5, 0.5, 0.5, alpha), (0.5, 0, 0.5, alpha), (0, 1, 1, alpha)]\n",
    "        #     ytick_labels = ['-1 (Background)', '0 (CHROMO)', '1 (ONCOCYTOMA)']\n",
    "        #     label_dict = {\"-1\": \"Background\", \"0\": \"Non-Tumor\", \"1\": \"Tumor\", \"2\":\"CHROMO\"}\n",
    "\n",
    "        # elif stage==\"Leaf2\":\n",
    "        #     arrays = [self.leaf2_array, self.leaf2_refined_array]\n",
    "        #     titles = ['Leaf 2', 'Refined Leaf 2']\n",
    "        #     stage_colors = [(0.5, 0.5, 0.5, alpha), (1, 0.5, 0, alpha), (1, 0.75, 0.8, alpha)]\n",
    "        #     ytick_labels = ['-1 (Background)', '0 (ccRCC)', '1 (pRCC)']\n",
    "        #     label_dict = {\"-1\": \"Background\", \"0\": \"Non-Tumor\", \"1\": \"Tumor\", \"2\":\"CHROMO\"}"
   ]
  },
  {
   "cell_type": "code",
   "execution_count": 6,
   "metadata": {},
   "outputs": [],
   "source": [
    "class PlotTree:\n",
    "\n",
    "    def __init__(self):\n",
    "        \n",
    "        self.plot_dict = {}\n",
    "\n",
    "    def PlotStage(self, stage, alpha):\n",
    "\n",
    "        self.colors_rgba = {\n",
    "                                \"Red\": (1.0, 0.0, 0.0, alpha),\n",
    "                                \"Orange\": (1.0, 0.5, 0.0, alpha),\n",
    "                                \"Yellow\": (1.0, 1.0, 0.0, alpha),\n",
    "                                \"Lime Green\": (0.5, 1.0, 0.0, alpha),\n",
    "                                \"Green\": (0.0, 1.0, 0.0, alpha),\n",
    "                                \"Spring Green\": (0.0, 1.0, 0.5, alpha),\n",
    "                                \"Cyan\": (0.0, 1.0, 1.0, alpha), \n",
    "                                \"Blue\": (0.0, 0.0, 1.0, alpha),\n",
    "                                \"Purple\": (0.5, 0.0, 1.0, alpha),\n",
    "                                \"Magenta\": (1.0, 0.0, 1.0, alpha),\n",
    "                                \"Pink\": (1.0, 0.75, 0.8, alpha),\n",
    "                                \"Dark Red\": (0.6, 0.0, 0.0, alpha),\n",
    "                                \"White\": (1.0, 1.0, 1.0, alpha)\n",
    "                            }\n",
    "\n",
    "        self.plot_dict = {\n",
    "            \n",
    "            \"Root\": {\n",
    "                \"titles\": ['Root', 'Refined Root'],\n",
    "                \"stage_colors\": [self.colors_rgba['White'], self.colors_rgba['Pink'], self.colors_rgba['Dark Red']],\n",
    "                \"label_dict\": {\"0\": \"Background\", \"1\": \"Non-Tumor\", \"2\": \"Tumor\"}\n",
    "\n",
    "            },\n",
    "\n",
    "            \"Node\": {\n",
    "                \"titles\": ['Node', 'Refined Node'],\n",
    "                \"stage_colors\": [self.colors_rgba['White'], self.colors_rgba['Pink'], self.colors_rgba['Blue'], self.colors_rgba['Orange']],\n",
    "                \"label_dict\": {\"0\": \"Background\", \"1\": \"Non-Tumor\", \"2\": \"CHROMO/ONCO\", \"3\": \"ccRCC/pRCC\"}\n",
    "\n",
    "            },\n",
    "\n",
    "            \"Leaf1\": {\n",
    "                \"titles\": ['Leaf1', 'Refined Leaf1'],\n",
    "                \"stage_colors\": [ self.colors_rgba['White'], self.colors_rgba['Pink'], \"\", \"\", self.colors_rgba['Purple'], self.colors_rgba['Magenta']],\n",
    "                \"label_dict\": {\"0\": \"Background\", \"1\": \"Non-Tumor\", \"4\": \"CHROMO\", \"5\": \"ONCOCYTOMA\"}\n",
    "\n",
    "            },\n",
    "\n",
    "            \"Leaf2\": {\n",
    "                \"titles\": ['Leaf2', 'Refined Leaf2'],\n",
    "                \"stage_colors\": [self.colors_rgba['White'], self.colors_rgba['Pink'], self.colors_rgba['Lime Green'], self.colors_rgba['Cyan']],\n",
    "                \"label_dict\": {\"0\": \"Background\", \"1\": \"Non-Tumor\", \"2\": \"ccRCC\", \"3\": \"pRCC\"}\n",
    "\n",
    "            }\n",
    "        }\n",
    "\n",
    "        return self.plot_dict[stage]"
   ]
  },
  {
   "cell_type": "code",
   "execution_count": 7,
   "metadata": {},
   "outputs": [],
   "source": [
    "import os\n",
    "from glob import glob\n",
    "import math\n",
    "import pandas as pd\n",
    "import numpy as np\n",
    "import time\n",
    "import json\n",
    "from tqdm import tqdm\n",
    "from scipy import ndimage\n",
    "import matplotlib.pyplot as plt\n",
    "from matplotlib.colors import ListedColormap, BoundaryNorm\n",
    "from matplotlib.patches import Patch\n",
    "from concurrent.futures import ThreadPoolExecutor, as_completed\n",
    "\n",
    "OPENSLIDE_PATH = r'D:\\Openslide\\Openslide\\openslide-win64-20231011\\bin'\n",
    "\n",
    "if hasattr(os, 'add_dll_directory'):\n",
    "    with os.add_dll_directory(OPENSLIDE_PATH):\n",
    "        import openslide\n",
    "else:\n",
    "    import openslide\n",
    "\n",
    "class ExpertDT:\n",
    "    \n",
    "    def __init__(self, crop_size=1000,\n",
    "                 crop_resize=112,\n",
    "                 level=0,\n",
    "                 overlap=1,\n",
    "                 batch_size=128,\n",
    "                 weights_dir='_weights',\n",
    "                 tree_pair_dir='_info',\n",
    "                 pruned_threshold=30,\n",
    "                 save_fig=True):\n",
    "\n",
    "        self.crop_size = crop_size\n",
    "        self.crop_resize = crop_resize\n",
    "        self.level = level\n",
    "        self.overlap = overlap\n",
    "        self.batch_size = batch_size\n",
    "        self.weights_dir = weights_dir\n",
    "        self.n_classes = 2\n",
    "        self.first_trained_layer = 11\n",
    "        self.tree_pair_dir = tree_pair_dir\n",
    "        self.node_pruned_threshold = pruned_threshold\n",
    "        self.save_fig = save_fig\n",
    "\n",
    "        self.stages_status = {\n",
    "                                \"Root\": \"Not Defined\",\n",
    "                                \"Node\": \"Not Defined\",\n",
    "                                \"Leaf1\": \"Not Defined\",\n",
    "                                \"Leaf2\": \"Not Defined\",\n",
    "                            }\n",
    "\n",
    "        self.load_tree_pair_dict()\n",
    "        self.load_tree_weights()\n",
    "\n",
    "    def load_tree_pair_dict(self):\n",
    "\n",
    "        with open(f\"{self.tree_pair_dir}/tree_pair_dict.json\", 'r') as file:\n",
    "            self.tree_pair_dict = json.load(file)   \n",
    "\n",
    "    def process_patch(self, args):\n",
    "\n",
    "        x, y, _step_, bounds_y, bounds_x, _size_ = args\n",
    "        if x * _step_ + self.crop_size > self.bounds_width or y * _step_ + self.crop_size > self.bounds_height:\n",
    "            return None\n",
    "        _top_ = _step_ * y + bounds_y\n",
    "        _left_ = _step_ * x + bounds_x\n",
    "\n",
    "        _patch_ = {'x': x, 'y': y, 'top': _top_, 'left': _left_, 'size': _size_}\n",
    "        \n",
    "        if not self.check_background(_patch_):\n",
    "            _label_ = 1\n",
    "        else:\n",
    "            _label_ = 0\n",
    "        _patch_['label'] = _label_\n",
    "\n",
    "        return _patch_\n",
    "\n",
    "    def init_patches(self, slide_dir):\n",
    "\n",
    "        print(\">>> Start Slide Analysis ...\")\n",
    "\n",
    "        self.slide = openslide.OpenSlide(slide_dir)\n",
    "        downsample = self.slide.level_downsamples[self.level]\n",
    "        self.bounds_width, self.bounds_height = self.slide.dimensions if 'openslide.bounds-width' not in self.slide.properties else (int(self.slide.properties['openslide.bounds-width']), int(self.slide.properties['openslide.bounds-height']))\n",
    "        bounds_x, bounds_y = (0, 0) if 'openslide.bounds-x' not in self.slide.properties else (int(self.slide.properties['openslide.bounds-x']), int(self.slide.properties['openslide.bounds-y']))\n",
    "\n",
    "        _step_ = int(self.crop_size / self.overlap)\n",
    "        _size_ = math.floor(self.crop_size / downsample)\n",
    "        _y_steps_ = int(math.ceil((self.bounds_height - self.crop_size) / _step_))\n",
    "        _x_steps_ = int(math.ceil((self.bounds_width - self.crop_size) / _step_))\n",
    "\n",
    "        patch_args = [(x, y, _step_, bounds_y, bounds_x, _size_) for y in range(_y_steps_) for x in range(_x_steps_)]\n",
    "\n",
    "        self.patches_dict = []\n",
    "        self.slide_array = np.zeros((_y_steps_, _x_steps_))\n",
    "\n",
    "        print(\"[Step 1/4] >>> Cropping WSI into patches ...\")\n",
    "\n",
    "        with tqdm(total=len(patch_args)) as pbar:\n",
    "            with ThreadPoolExecutor(max_workers=4) as executor:\n",
    "                futures = [executor.submit(self.process_patch, arg) for arg in patch_args]\n",
    "                for future in as_completed(futures):\n",
    "                    result = future.result()\n",
    "                    if result is not None:\n",
    "                        self.patches_dict.append(result)\n",
    "                        self.slide_array[result['y'], result['x']] = result['label']\n",
    "                    pbar.update(1)\n",
    "\n",
    "        self.patches_dict = list(self.patches_dict)    \n",
    "    \n",
    "    @staticmethod\n",
    "    def is_background(region, threshold=210):\n",
    "\n",
    "        if np.mean(region) > threshold:\n",
    "            return True\n",
    "        else:\n",
    "            return False\n",
    "        \n",
    "    def check_background(self, patch):\n",
    "\n",
    "        region = self.slide.read_region([patch['left'],\n",
    "                                                    patch['top']],\n",
    "                                                self.level,\n",
    "                                                [patch['size'],\n",
    "                                                    patch['size']])\n",
    "        \n",
    "        region = region.convert('RGB').resize(size=(self.crop_resize, self.crop_resize))\n",
    "\n",
    "        return self.is_background(region)\n",
    "    \n",
    "    def _refine(self, input):\n",
    "        \n",
    "        central = input[input.size // 2]\n",
    "        values, counts = np.unique(input, return_counts=True)\n",
    "        max_freq = counts.max()\n",
    "        modes = values[counts == max_freq]\n",
    "        \n",
    "        if central==0:\n",
    "            return 0\n",
    "        elif central in modes:\n",
    "            return central\n",
    "        else:\n",
    "            return modes[0]\n",
    "        \n",
    "    def refine_output(self, input_crops, size=(3, 3)):\n",
    "\n",
    "        refined_crops = ndimage.generic_filter(input_crops, self._refine, size=size)\n",
    "\n",
    "        return refined_crops\n",
    "    \n",
    "    def load_tree_weights(self):\n",
    "\n",
    "        stage_folders = [os.path.join(self.weights_dir, f) for f in os.listdir(self.weights_dir) if os.path.isdir(os.path.join(self.weights_dir, f))]\n",
    "\n",
    "        self.final_weights = {}\n",
    "\n",
    "        for stage in stage_folders:\n",
    "\n",
    "            files = glob(os.path.join(stage, '*'))\n",
    "            \n",
    "            if files:\n",
    "\n",
    "                files.sort(key=os.path.getmtime, reverse=True)\n",
    "                latest_update = os.path.basename(files[0])\n",
    "                self.final_weights[os.path.basename(stage)] = latest_update\n",
    "\n",
    "    def check_stage_requirement(self, stage):\n",
    "\n",
    "        if stage == \"Node\":\n",
    "            if self.stages_status[\"Root\"] != \"Not Defined\":\n",
    "                return True\n",
    "            else:\n",
    "                return False\n",
    "        \n",
    "        elif stage == \"Leaf1\" or stage == \"Leaf2\" :\n",
    "            if self.stages_status[\"Node\"] != \"Not Defined\":\n",
    "                return True\n",
    "            else:\n",
    "                return False\n",
    "            \n",
    "    def predict_root(self):\n",
    "        \n",
    "        vgg16 = Vgg16(input_shape=(self.crop_resize, self.crop_resize, 3),\n",
    "                      n_classes=self.n_classes,\n",
    "                      first_trained_layer=self.first_trained_layer)\n",
    "        \n",
    "        vgg16.load_weights(weights_path=f\"{self.weights_dir}/Root/{self.final_weights['Root']}\")\n",
    "\n",
    "        self.root_array = self.slide_array.copy()\n",
    "\n",
    "        image_batch = []\n",
    "        patch_indices = []\n",
    "\n",
    "        def process_batch(batch, indices):\n",
    "            if batch:\n",
    "                pred_labels = vgg16.predict(np.array(batch))\n",
    "                pred_classes = np.argmax(pred_labels, axis=1)\n",
    "                for pred_class, index in zip(pred_classes, indices):\n",
    "                    self.root_array[self.patches_dict[index]['y'], self.patches_dict[index]['x']] = pred_class+1\n",
    "\n",
    "        print(\"[Step 2/4] >>> Root Stage Analysis ...\")\n",
    "\n",
    "        for patch_index in tqdm(range(len(self.patches_dict))):\n",
    "\n",
    "            root_condition = self.patches_dict[patch_index]['label'] != 0\n",
    "\n",
    "            if root_condition:\n",
    "                region = self.slide.read_region([self.patches_dict[patch_index]['left'],\n",
    "                                                 self.patches_dict[patch_index]['top']],\n",
    "                                                self.level,\n",
    "                                                [self.patches_dict[patch_index]['size'],\n",
    "                                                 self.patches_dict[patch_index]['size']])\n",
    "                region = region.convert('RGB').resize(size=(self.crop_resize, self.crop_resize))\n",
    "                image_array = np.array(region) / 255.0\n",
    "\n",
    "                image_batch.append(image_array)\n",
    "                patch_indices.append(patch_index)\n",
    "\n",
    "                if len(image_batch) == self.batch_size:\n",
    "                    process_batch(image_batch, patch_indices)\n",
    "                    image_batch = []\n",
    "                    patch_indices = []\n",
    "\n",
    "        process_batch(image_batch, patch_indices)\n",
    "\n",
    "        self.root_refined_array = self.refine_output(self.root_array)\n",
    "        self.stages_status['Root'] = \"Done\"\n",
    "\n",
    "    def predict_node(self):\n",
    "        \n",
    "        if not self.check_stage_requirement(stage=\"Node\"):\n",
    "            print(\"[WARNING] No Root Analysis Found ...\")\n",
    "            return\n",
    "\n",
    "        vgg16 = Vgg16(input_shape=(self.crop_resize, self.crop_resize, 3),\n",
    "                      n_classes=self.n_classes,\n",
    "                      first_trained_layer=self.first_trained_layer)\n",
    "        \n",
    "        vgg16.load_weights(weights_path=f\"{self.weights_dir}/Node/{self.final_weights['Node']}\")\n",
    "\n",
    "        self.node_array = self.root_refined_array.copy()\n",
    "\n",
    "        print(\"[Step 3/4] >>> Node Stage Analysis ...\")\n",
    "        \n",
    "        image_batch = []\n",
    "        patch_info_batch = []\n",
    "\n",
    "        def process_batch(batch, info_batch):\n",
    "            if not batch:\n",
    "                return\n",
    "            \n",
    "            pred_labels = vgg16.predict(np.array(batch))\n",
    "            pred_classes = np.argmax(pred_labels, axis=1)\n",
    "            \n",
    "            for pred_class, info in zip(pred_classes, info_batch):\n",
    "                y, x, patch_index = info\n",
    "                if pred_class == 0:\n",
    "                    node_label = 3\n",
    "                else:\n",
    "                    node_label = 2\n",
    "                self.node_array[y, x] = node_label\n",
    "\n",
    "        for patch_index in tqdm(range(len(self.patches_dict))):\n",
    "            root_crop_label = self.root_refined_array[self.patches_dict[patch_index]['y'], self.patches_dict[patch_index]['x']]\n",
    "\n",
    "            if root_crop_label == 2:\n",
    "                region = self.slide.read_region([self.patches_dict[patch_index]['left'],\n",
    "                                                 self.patches_dict[patch_index]['top']],\n",
    "                                                self.level,\n",
    "                                                [self.patches_dict[patch_index]['size'],\n",
    "                                                 self.patches_dict[patch_index]['size']])\n",
    "                region = region.convert('RGB').resize(size=(self.crop_resize, self.crop_resize))\n",
    "                image_array = np.array(region) / 255.0\n",
    "\n",
    "                image_batch.append(image_array)\n",
    "                patch_info_batch.append((self.patches_dict[patch_index]['y'], self.patches_dict[patch_index]['x'], patch_index))\n",
    "\n",
    "                if len(image_batch) == self.batch_size:\n",
    "                    process_batch(image_batch, patch_info_batch)\n",
    "                    image_batch = []\n",
    "                    patch_info_batch = []\n",
    "\n",
    "        process_batch(image_batch, patch_info_batch)\n",
    "\n",
    "        self.node_refined_array = self.refine_output(self.node_array)\n",
    "\n",
    "        unique_values, counts = np.unique(self.node_refined_array, return_counts=True)\n",
    "        value_counts = dict(zip(unique_values, counts))\n",
    "\n",
    "        node_count_1, node_count_2 = value_counts.get(2, 0), value_counts.get(3, 0)\n",
    "        self.node_cert = round(abs(node_count_1 - node_count_2) / (node_count_1 + node_count_2) * 100, 2)\n",
    "\n",
    "        if self.node_cert >= self.node_pruned_threshold:\n",
    "\n",
    "            node_majority = 1 if node_count_1 > node_count_2 else 2\n",
    "            print(f\"--- >>> Node Confidence: : {self.node_cert}%, Node to Leaf {node_majority}\")\n",
    "            self.stages_status['Node'] = f'Leaf{node_majority}' \n",
    "        else:\n",
    "            self.stages_status['Node'] = 'Pruned'\n",
    "            print(\"--- >>> Node is Pruned! Connecting Root Directly to Leafs ...\")\n",
    "\n",
    "    def predict_leaf1(self):\n",
    "\n",
    "        vgg16 = Vgg16(input_shape=(self.crop_resize, self.crop_resize, 3),\n",
    "                      n_classes=self.n_classes,\n",
    "                      first_trained_layer=self.first_trained_layer)\n",
    "        \n",
    "        vgg16.load_weights(weights_path=f\"{self.weights_dir}/Leaf1/{self.final_weights['Leaf1']}\")\n",
    "\n",
    "        self.leaf1_array = self.node_refined_array.copy()\n",
    "        self.leaf1_array[self.leaf1_array == 3] = 1\n",
    "\n",
    "        print(\"[Step 4/4] >>> Leaf Stage Analysis: Leaf 1 ...\")\n",
    "        \n",
    "        image_batch = []\n",
    "        patch_info_batch = []\n",
    "\n",
    "        def process_batch(batch, info_batch):\n",
    "            if not batch:\n",
    "                return\n",
    "            \n",
    "            pred_labels = vgg16.predict(np.array(batch))\n",
    "            pred_classes = np.argmax(pred_labels, axis=1)\n",
    "            \n",
    "            for pred_class, info in zip(pred_classes, info_batch):\n",
    "                y, x, patch_index = info\n",
    "                if pred_class == 0:\n",
    "                    leaf1_label = 4\n",
    "                else:\n",
    "                    leaf1_label = 5\n",
    "\n",
    "                self.leaf1_array[y, x] = leaf1_label\n",
    "\n",
    "        for patch_index in tqdm(range(len(self.patches_dict))):\n",
    "\n",
    "            node_crop_label = self.node_refined_array[self.patches_dict[patch_index]['y'], self.patches_dict[patch_index]['x']]\n",
    "\n",
    "            if node_crop_label == 2:\n",
    "                region = self.slide.read_region([self.patches_dict[patch_index]['left'],\n",
    "                                                 self.patches_dict[patch_index]['top']],\n",
    "                                                self.level,\n",
    "                                                [self.patches_dict[patch_index]['size'],\n",
    "                                                 self.patches_dict[patch_index]['size']])\n",
    "                \n",
    "                region = region.convert('RGB').resize(size=(self.crop_resize, self.crop_resize))\n",
    "                image_array = np.array(region) / 255.0\n",
    "\n",
    "                image_batch.append(image_array)\n",
    "                patch_info_batch.append((self.patches_dict[patch_index]['y'], self.patches_dict[patch_index]['x'], patch_index))\n",
    "\n",
    "                if len(image_batch) == self.batch_size:\n",
    "                    process_batch(image_batch, patch_info_batch)\n",
    "                    image_batch = []\n",
    "                    patch_info_batch = []\n",
    "\n",
    "        process_batch(image_batch, patch_info_batch)\n",
    "\n",
    "        self.leaf1_refined_array = self.refine_output(self.leaf1_array)\n",
    "\n",
    "        unique_leaf1, count_leaf1 = np.unique(self.leaf1_refined_array, return_counts=True)\n",
    "        self.value_counts_leaf1 = dict(zip(unique_leaf1, count_leaf1))\n",
    "    \n",
    "    def predict_leaf2(self):\n",
    "\n",
    "        vgg16 = Vgg16(input_shape=(self.crop_resize, self.crop_resize, 3),\n",
    "                      n_classes=self.n_classes,\n",
    "                      first_trained_layer=self.first_trained_layer)\n",
    "        \n",
    "        vgg16.load_weights(weights_path=f\"{self.weights_dir}/Leaf2/{self.final_weights['Leaf2']}\")\n",
    "\n",
    "        self.leaf2_array = self.node_refined_array.copy()\n",
    "        self.leaf2_array[self.leaf2_array == 2] = 1\n",
    "\n",
    "        print(\"[Step 4/4] >>> Leaf Stage Analysis: Leaf 2 ...\")\n",
    "        \n",
    "        image_batch = []\n",
    "        patch_info_batch = []\n",
    "\n",
    "        def process_batch(batch, info_batch):\n",
    "            if not batch:\n",
    "                return\n",
    "            \n",
    "            pred_labels = vgg16.predict(np.array(batch))\n",
    "            pred_classes = np.argmax(pred_labels, axis=1)\n",
    "            \n",
    "            for pred_class, info in zip(pred_classes, info_batch):\n",
    "                y, x, patch_index = info\n",
    "                if pred_class == 0:\n",
    "                    leaf2_label = 2\n",
    "                else:\n",
    "                    leaf2_label = 3\n",
    "\n",
    "                self.leaf2_array[y, x] = leaf2_label\n",
    "\n",
    "        for patch_index in tqdm(range(len(self.patches_dict))):\n",
    "\n",
    "            node_crop_label = self.node_refined_array[self.patches_dict[patch_index]['y'], self.patches_dict[patch_index]['x']]\n",
    "\n",
    "            if node_crop_label == 3:\n",
    "                region = self.slide.read_region([self.patches_dict[patch_index]['left'],\n",
    "                                                 self.patches_dict[patch_index]['top']],\n",
    "                                                self.level,\n",
    "                                                [self.patches_dict[patch_index]['size'],\n",
    "                                                 self.patches_dict[patch_index]['size']])\n",
    "                \n",
    "                region = region.convert('RGB').resize(size=(self.crop_resize, self.crop_resize))\n",
    "                image_array = np.array(region) / 255.0\n",
    "\n",
    "                image_batch.append(image_array)\n",
    "                patch_info_batch.append((self.patches_dict[patch_index]['y'], self.patches_dict[patch_index]['x'], patch_index))\n",
    "\n",
    "                if len(image_batch) == self.batch_size:\n",
    "                    process_batch(image_batch, patch_info_batch)\n",
    "                    image_batch = []\n",
    "                    patch_info_batch = []\n",
    "\n",
    "        process_batch(image_batch, patch_info_batch)\n",
    "\n",
    "        self.leaf2_refined_array = self.refine_output(self.leaf2_array)\n",
    "\n",
    "        unique_leaf2, count_leaf2 = np.unique(self.leaf2_refined_array, return_counts=True)\n",
    "        self.value_counts_leaf2 = dict(zip(unique_leaf2, count_leaf2))\n",
    "\n",
    "    def predict_leaf(self):\n",
    "\n",
    "        if not self.check_stage_requirement(stage=\"Node\"):\n",
    "            print(\"[WARNING] No Root Analysis Found ...\")\n",
    "            return\n",
    "        \n",
    "        if self.stages_status['Node'] == 'Pruned':\n",
    "\n",
    "            self.predict_leaf1()\n",
    "            self.predict_leaf2()\n",
    "\n",
    "            value_counts_leaf = {**self.value_counts_leaf1, **self.value_counts_leaf2}\n",
    "\n",
    "            ccrcc_count, prcc_count = value_counts_leaf.get(2, 0), value_counts_leaf.get(3, 0)\n",
    "            chromo_count, onco_count = value_counts_leaf.get(4, 0), value_counts_leaf.get(5, 0)\n",
    "\n",
    "            self.subtype_counts = {\n",
    "                                'ccRCC': ccrcc_count,\n",
    "                                'pRCC': prcc_count,\n",
    "                                'CHROMO': chromo_count,\n",
    "                                'ONCOCYTOMA': onco_count\n",
    "                            }\n",
    "            \n",
    "            self.max_subtype = max(self.subtype_counts, key=self.subtype_counts.get)\n",
    "\n",
    "        elif self.stages_status['Node'] == 'Leaf1':\n",
    "\n",
    "            self.predict_leaf1()\n",
    "\n",
    "            chromo_count, onco_count = self.value_counts_leaf1.get(4, 0), self.value_counts_leaf1.get(5, 0)\n",
    "\n",
    "            self.subtype_counts = {\n",
    "                                'ccRCC': 0,\n",
    "                                'pRCC': 0,\n",
    "                                'CHROMO': chromo_count,\n",
    "                                'ONCOCYTOMA': onco_count\n",
    "                            }\n",
    "            \n",
    "            self.max_subtype = max(self.subtype_counts, key=self.subtype_counts.get)\n",
    "\n",
    "        elif self.stages_status['Node'] == 'Leaf2':\n",
    "\n",
    "            self.predict_leaf2()\n",
    "\n",
    "            ccrcc_count, prcc_count = self.value_counts_leaf2.get(2, 0), self.value_counts_leaf2.get(3, 0)\n",
    "\n",
    "            self.subtype_counts = {\n",
    "                                'ccRCC': ccrcc_count,\n",
    "                                'pRCC': prcc_count,\n",
    "                                'CHROMO': 0,\n",
    "                                'ONCOCYTOMA': 0\n",
    "                            }\n",
    "            \n",
    "            self.max_subtype = max(self.subtype_counts, key=self.subtype_counts.get)\n",
    "\n",
    "    def predict(self, slide_dir):\n",
    "\n",
    "        self.init_patches(slide_dir)\n",
    "        self.predict_root()\n",
    "        self.predict_node()\n",
    "        self.predict_leaf()\n",
    "\n",
    "        print(f\">>> Results:\")\n",
    "        print(f\">>> Slide Label: {self.max_subtype}\")\n",
    "        print(f\">>> Subtype Count:\\n {self.subtype_counts}\")\n",
    "\n",
    "    def save_figs(self, save_dir, id, slidename):\n",
    "\n",
    "        print(\">>> Saving Figures ...\")\n",
    "\n",
    "        os.makedirs(f'{save_dir}/{id}/{slidename}')\n",
    "        if self.save_fig:\n",
    "            stages_plot = ['Root', 'Node']\n",
    "\n",
    "            if self.stages_status['Node']=='Pruned':\n",
    "                stages_plot.append('Leaf1')\n",
    "                stages_plot.append('Leaf2')\n",
    "            else:\n",
    "                stages_plot.append(self.stages_status['Node'])\n",
    "\n",
    "            for stage in stages_plot:\n",
    "                self.save_plot_stage(stage, name_dir=f'_figs/{id}/{slidename}/{slidename}_{stage}.png', dpi=300, alpha=1)\n",
    "\n",
    "    def save_plot_stage(self, stage, name_dir, dpi=300, alpha=1):\n",
    "\n",
    "        if stage==\"Root\":\n",
    "            arrays = [self.root_array, self.root_refined_array]\n",
    "\n",
    "        elif stage==\"Node\":\n",
    "            arrays = [self.node_array, self.node_refined_array]\n",
    "\n",
    "        elif stage==\"Leaf1\":\n",
    "            arrays = [self.leaf1_array, self.leaf1_refined_array]\n",
    "\n",
    "        elif stage==\"Leaf2\":\n",
    "            arrays = [self.leaf2_array, self.leaf2_refined_array]\n",
    "\n",
    "        stage_kwargs = PlotTree().PlotStage(stage=stage, alpha=alpha)\n",
    "\n",
    "        sorted_keys = sorted(stage_kwargs['label_dict'].keys(), key=int)\n",
    "\n",
    "        labels = [stage_kwargs['label_dict'][key] for key in sorted_keys]\n",
    "        colors = [stage_kwargs['stage_colors'][int(key)] for key in sorted_keys]\n",
    "\n",
    "        cmap = ListedColormap(colors)\n",
    "        bounds = [float(key) - 0.5 for key in sorted_keys] + [float(sorted_keys[-1]) + 0.5]\n",
    "        norm = BoundaryNorm(bounds, cmap.N)\n",
    "\n",
    "        fig, axes = plt.subplots(1, len(arrays), figsize=(20, 5))\n",
    "        for ax, array, title in zip(axes, arrays, stage_kwargs['titles']):\n",
    "            im = ax.imshow(array, cmap=cmap, norm=norm)\n",
    "            ax.set_title(title)\n",
    "\n",
    "        handles = [Patch(color=color, label=label) for color, label in zip(colors, labels)]\n",
    "        plt.legend(handles=handles, bbox_to_anchor=(1.05, 1), loc='upper left')\n",
    "\n",
    "        plt.tight_layout()\n",
    "        plt.savefig(name_dir, bbox_inches='tight', pad_inches=0, dpi=dpi)\n",
    "        plt.close()\n",
    "\n",
    "    def plot_stage_on_slide(self, stage, alpha=1):\n",
    "\n",
    "        if stage==\"Root\":\n",
    "            arrays = [self.root_array, self.root_refined_array]\n",
    "\n",
    "        elif stage==\"Node\":\n",
    "            arrays = [self.node_array, self.node_refined_array]\n",
    "\n",
    "        elif stage==\"Leaf1\":\n",
    "            arrays = [self.leaf1_array, self.leaf1_refined_array]\n",
    "\n",
    "        elif stage==\"Leaf2\":\n",
    "            arrays = [self.leaf2_array, self.leaf2_refined_array]\n",
    "\n",
    "        stage_kwargs = PlotTree().PlotStage(stage=stage, alpha=alpha)\n",
    "\n",
    "        sorted_keys = sorted(stage_kwargs['label_dict'].keys(), key=int)\n",
    "\n",
    "        labels = [stage_kwargs['label_dict'][key] for key in sorted_keys]\n",
    "        colors = [stage_kwargs['stage_colors'][int(key)] for key in sorted_keys]\n",
    "\n",
    "        cmap = ListedColormap(colors)\n",
    "        bounds = [float(key) - 0.5 for key in sorted_keys] + [float(sorted_keys[-1]) + 0.5]\n",
    "        norm = BoundaryNorm(bounds, cmap.N)\n",
    "\n",
    "        fig, axes = plt.subplots(1, len(arrays), figsize=(20, 5))\n",
    "        for ax, array, title in zip(axes, arrays, stage_kwargs['titles']):\n",
    "            im = ax.imshow(array, cmap=cmap, norm=norm)\n",
    "            ax.set_title(title)\n",
    "\n",
    "        handles = [Patch(color=color, label=label) for color, label in zip(colors, labels)]\n",
    "        plt.legend(handles=handles, bbox_to_anchor=(1.05, 1), loc='upper left')\n",
    "\n",
    "        plt.tight_layout()\n",
    "        plt.show()"
   ]
  },
  {
   "cell_type": "code",
   "execution_count": 8,
   "metadata": {},
   "outputs": [
    {
     "name": "stdout",
     "output_type": "stream",
     "text": [
      ">>> Start Slide Analysis ...\n",
      "[Step 1/4] >>> Cropping WSI into patches ...\n"
     ]
    },
    {
     "name": "stderr",
     "output_type": "stream",
     "text": [
      "100%|██████████| 3080/3080 [00:48<00:00, 63.02it/s]\n"
     ]
    },
    {
     "name": "stdout",
     "output_type": "stream",
     "text": [
      ">>> Succesfully Loaded Weights ...\n",
      "[Step 2/4] >>> Root Stage Analysis ...\n"
     ]
    },
    {
     "name": "stderr",
     "output_type": "stream",
     "text": [
      "100%|██████████| 3080/3080 [01:47<00:00, 28.76it/s]\n"
     ]
    },
    {
     "name": "stdout",
     "output_type": "stream",
     "text": [
      ">>> Succesfully Loaded Weights ...\n",
      "[Step 3/4] >>> Node Stage Analysis ...\n"
     ]
    },
    {
     "name": "stderr",
     "output_type": "stream",
     "text": [
      "100%|██████████| 3080/3080 [00:34<00:00, 89.86it/s] \n"
     ]
    },
    {
     "name": "stdout",
     "output_type": "stream",
     "text": [
      "--- >>> Node Confidence: : 100.0%, Node to Leaf 2\n",
      ">>> Succesfully Loaded Weights ...\n",
      "[Step 4/4] >>> Leaf Stage Analysis: Leaf 2 ...\n"
     ]
    },
    {
     "name": "stderr",
     "output_type": "stream",
     "text": [
      "100%|██████████| 3080/3080 [00:37<00:00, 83.13it/s]  \n"
     ]
    },
    {
     "name": "stdout",
     "output_type": "stream",
     "text": [
      ">>> Results:\n",
      ">>> Slide Label: ccRCC\n",
      ">>> Subtype Count:\n",
      " {'ccRCC': 572, 'pRCC': 0, 'CHROMO': 0, 'ONCOCYTOMA': 0}\n",
      ">>> Saving Figures ...\n"
     ]
    }
   ],
   "source": [
    "expertdt = ExpertDT(crop_size=1000,\n",
    "                    crop_resize=112,\n",
    "                    level=0,\n",
    "                    overlap=1,\n",
    "                    batch_size=128,\n",
    "                    weights_dir=\"F:\\My Files\\Thesis\\Dataset\\_weights\",\n",
    "                    tree_pair_dir=\"_info\",\n",
    "                    pruned_threshold=30)\n",
    "\n",
    "expertdt.predict(slide_dir=\"F:\\My Files\\Thesis\\Dataset\\RCC_WSIs\\ccRCC\\H19.754.IHC.ccRCC.scn\")\n",
    "expertdt.save_figs(save_dir='_figs',\n",
    "                    id='H19.754',\n",
    "                    slidename='H19.754.IHC.ccRCC')"
   ]
  },
  {
   "cell_type": "code",
   "execution_count": 23,
   "metadata": {},
   "outputs": [
    {
     "data": {
      "image/png": "[encoded data removed]",
      "text/plain": [
       "<Figure size 2000x500 with 2 Axes>"
      ]
     },
     "metadata": {},
     "output_type": "display_data"
    }
   ],
   "source": [
    "expertdt.plot_stage_on_slide(stage='Node')"
   ]
  },
  {
   "cell_type": "code",
   "execution_count": 13,
   "metadata": {},
   "outputs": [
    {
     "data": {
      "image/png": "[encoded data removed]",
      "text/plain": [
       "<Figure size 2000x500 with 2 Axes>"
      ]
     },
     "metadata": {},
     "output_type": "display_data"
    }
   ],
   "source": [
    "from skimage.transform import resize\n",
    "\n",
    "stage = \"Root\"\n",
    "alpha = 0.75\n",
    "\n",
    "if stage==\"Root\":\n",
    "    arrays = [expertdt.root_array, expertdt.root_refined_array]\n",
    "\n",
    "elif stage==\"Node\":\n",
    "    arrays = [expertdt.node_array, expertdt.node_refined_array]\n",
    "\n",
    "elif stage==\"Leaf1\":\n",
    "    arrays = [expertdt.leaf1_array, expertdt.leaf1_refined_array]\n",
    "\n",
    "elif stage==\"Leaf2\":\n",
    "    arrays = [expertdt.leaf2_array, expertdt.leaf2_refined_array]\n",
    "\n",
    "stage_kwargs = PlotTree().PlotStage(stage=stage, alpha=1)\n",
    "\n",
    "sorted_keys = sorted(stage_kwargs['label_dict'].keys(), key=int)\n",
    "\n",
    "labels = [stage_kwargs['label_dict'][key] for key in sorted_keys]\n",
    "colors = [stage_kwargs['stage_colors'][int(key)] for key in sorted_keys]\n",
    "\n",
    "cmap = ListedColormap(colors)\n",
    "bounds = [float(key) - 0.5 for key in sorted_keys] + [float(sorted_keys[-1]) + 0.5]\n",
    "norm = BoundaryNorm(bounds, cmap.N)\n",
    "\n",
    "fig, axes = plt.subplots(1, len(arrays), figsize=(20, 5))\n",
    "for ax, array, title in zip(axes, arrays, stage_kwargs['titles']):\n",
    "    im = ax.imshow(array, cmap=cmap, norm=norm)\n",
    "    ax.set_title(title)\n",
    "\n",
    "handles = [Patch(color=color, label=label) for color, label in zip(colors, labels)]\n",
    "plt.legend(handles=handles, bbox_to_anchor=(1.05, 1), loc='upper left')\n",
    "\n",
    "plt.tight_layout()\n",
    "plt.show()"
   ]
  },
  {
   "cell_type": "code",
   "execution_count": 49,
   "metadata": {},
   "outputs": [],
   "source": [
    "expertdt.slide.close()"
   ]
  },
  {
   "cell_type": "code",
   "execution_count": 227,
   "metadata": {},
   "outputs": [],
   "source": [
    "verbose = True\n",
    "\n",
    "with open(f\"_info/split_ids.json\", 'r') as file:\n",
    "    train_test_ids = json.load(file)\n",
    "\n",
    "ids_df = pd.read_csv(f\"_info/ids.csv\")"
   ]
  },
  {
   "cell_type": "code",
   "execution_count": 229,
   "metadata": {},
   "outputs": [
    {
     "name": "stdout",
     "output_type": "stream",
     "text": [
      "\n",
      "\n",
      "------------------------------\n",
      ">>> Preparing Data for 'ccRCC' Tests:\n",
      "------------------------------\n",
      "\n",
      "\n",
      "++++++++++++++++++++++++++++++\n",
      ">>> Patient ID: HP12.3187\n",
      "++++++++++++++++++++++++++++++\n",
      "++++++++++++++++++++++++++++++\n",
      ">>> Patient ID: HP13.1799\n",
      "++++++++++++++++++++++++++++++\n",
      "++++++++++++++++++++++++++++++\n",
      ">>> Patient ID: H19.754\n",
      "++++++++++++++++++++++++++++++\n",
      ">>> Slide: H19.754.IHC.ccRCC\n",
      ">>> Start Slide Analysis ...\n",
      "[Step 1/4] >>> Cropping WSI into patches ...\n"
     ]
    },
    {
     "name": "stderr",
     "output_type": "stream",
     "text": [
      "100%|██████████| 3080/3080 [01:12<00:00, 42.65it/s]\n"
     ]
    },
    {
     "name": "stdout",
     "output_type": "stream",
     "text": [
      ">>> Succesfully Loaded Weights ...\n",
      "[Step 2/4] >>> Root Stage Analysis ...\n"
     ]
    },
    {
     "name": "stderr",
     "output_type": "stream",
     "text": [
      "100%|██████████| 3080/3080 [02:21<00:00, 21.73it/s]\n"
     ]
    },
    {
     "name": "stdout",
     "output_type": "stream",
     "text": [
      ">>> Succesfully Loaded Weights ...\n",
      "[Step 3/4] >>> Node Stage Analysis ...\n"
     ]
    },
    {
     "name": "stderr",
     "output_type": "stream",
     "text": [
      "100%|██████████| 3080/3080 [00:50<00:00, 61.53it/s] \n"
     ]
    },
    {
     "name": "stdout",
     "output_type": "stream",
     "text": [
      "--- >>> Node Confidence: : 100.0%, Node to Leaf 2\n",
      ">>> Succesfully Loaded Weights ...\n",
      "[Step 4/4] >>> Leaf Stage Analysis: Leaf 2 ...\n"
     ]
    },
    {
     "name": "stderr",
     "output_type": "stream",
     "text": [
      "100%|██████████| 3080/3080 [00:49<00:00, 62.61it/s] \n"
     ]
    },
    {
     "name": "stdout",
     "output_type": "stream",
     "text": [
      ">>> Results:\n",
      ">>> Slide Label: ccRCC\n",
      ">>> Subtype Count:\n",
      " {'ccRCC': 572, 'pRCC': 0, 'CHROMO': 0, 'ONCOCYTOMA': 0}\n",
      "++++++++++++++++++++++++++++++\n",
      ">>> Patient ID: HP10.2986\n",
      "++++++++++++++++++++++++++++++\n",
      "++++++++++++++++++++++++++++++\n",
      ">>> Patient ID: HP12.13358\n",
      "++++++++++++++++++++++++++++++\n",
      "++++++++++++++++++++++++++++++\n",
      ">>> Patient ID: HP12.6073\n",
      "++++++++++++++++++++++++++++++\n",
      "++++++++++++++++++++++++++++++\n",
      ">>> Patient ID: HP12.7225\n",
      "++++++++++++++++++++++++++++++\n",
      "++++++++++++++++++++++++++++++\n",
      ">>> Patient ID: HP12.8355\n",
      "++++++++++++++++++++++++++++++\n",
      "++++++++++++++++++++++++++++++\n",
      ">>> Patient ID: HP12.8793\n",
      "++++++++++++++++++++++++++++++\n",
      "++++++++++++++++++++++++++++++\n",
      ">>> Patient ID: HP12.9282\n",
      "++++++++++++++++++++++++++++++\n",
      "++++++++++++++++++++++++++++++\n",
      ">>> Patient ID: HP14.1749\n",
      "++++++++++++++++++++++++++++++\n",
      "++++++++++++++++++++++++++++++\n",
      ">>> Patient ID: HP14.1993\n",
      "++++++++++++++++++++++++++++++\n",
      "++++++++++++++++++++++++++++++\n",
      ">>> Patient ID: HP15.11259\n",
      "++++++++++++++++++++++++++++++\n",
      "++++++++++++++++++++++++++++++\n",
      ">>> Patient ID: HP15.1480\n",
      "++++++++++++++++++++++++++++++\n",
      "++++++++++++++++++++++++++++++\n",
      ">>> Patient ID: HP15.2902\n",
      "++++++++++++++++++++++++++++++\n",
      "++++++++++++++++++++++++++++++\n",
      ">>> Patient ID: HP16.6209\n",
      "++++++++++++++++++++++++++++++\n",
      "++++++++++++++++++++++++++++++\n",
      ">>> Patient ID: HP16.6211\n",
      "++++++++++++++++++++++++++++++\n",
      "++++++++++++++++++++++++++++++\n",
      ">>> Patient ID: HP19.10064\n",
      "++++++++++++++++++++++++++++++\n",
      ">>> Slide: HP19.10064.A1-1.ccRCC\n",
      ">>> Start Slide Analysis ...\n",
      "[Step 1/4] >>> Cropping WSI into patches ...\n"
     ]
    },
    {
     "name": "stderr",
     "output_type": "stream",
     "text": [
      "100%|██████████| 11468/11468 [05:00<00:00, 38.14it/s]\n"
     ]
    },
    {
     "name": "stdout",
     "output_type": "stream",
     "text": [
      ">>> Succesfully Loaded Weights ...\n",
      "[Step 2/4] >>> Root Stage Analysis ...\n"
     ]
    },
    {
     "name": "stderr",
     "output_type": "stream",
     "text": [
      "100%|██████████| 11468/11468 [10:43<00:00, 17.81it/s] \n"
     ]
    },
    {
     "name": "stdout",
     "output_type": "stream",
     "text": [
      ">>> Succesfully Loaded Weights ...\n",
      "[Step 3/4] >>> Node Stage Analysis ...\n"
     ]
    },
    {
     "name": "stderr",
     "output_type": "stream",
     "text": [
      "100%|██████████| 11468/11468 [08:32<00:00, 22.40it/s] \n"
     ]
    },
    {
     "name": "stdout",
     "output_type": "stream",
     "text": [
      "--- >>> Node Confidence: : 99.46%, Node to Leaf 2\n",
      ">>> Succesfully Loaded Weights ...\n",
      "[Step 4/4] >>> Leaf Stage Analysis: Leaf 2 ...\n"
     ]
    },
    {
     "name": "stderr",
     "output_type": "stream",
     "text": [
      "100%|██████████| 11468/11468 [08:11<00:00, 23.32it/s] \n"
     ]
    },
    {
     "name": "stdout",
     "output_type": "stream",
     "text": [
      ">>> Results:\n",
      ">>> Slide Label: ccRCC\n",
      ">>> Subtype Count:\n",
      " {'ccRCC': 5735, 'pRCC': 129, 'CHROMO': 0, 'ONCOCYTOMA': 0}\n",
      ">>> Slide: HP19.10064.A1.ccRCC\n",
      ">>> Start Slide Analysis ...\n",
      "[Step 1/4] >>> Cropping WSI into patches ...\n"
     ]
    },
    {
     "name": "stderr",
     "output_type": "stream",
     "text": [
      "100%|██████████| 10980/10980 [04:52<00:00, 37.58it/s]\n"
     ]
    },
    {
     "name": "stdout",
     "output_type": "stream",
     "text": [
      ">>> Succesfully Loaded Weights ...\n",
      "[Step 2/4] >>> Root Stage Analysis ...\n"
     ]
    },
    {
     "name": "stderr",
     "output_type": "stream",
     "text": [
      "100%|██████████| 10980/10980 [10:12<00:00, 17.92it/s]\n"
     ]
    },
    {
     "name": "stdout",
     "output_type": "stream",
     "text": [
      ">>> Succesfully Loaded Weights ...\n",
      "[Step 3/4] >>> Node Stage Analysis ...\n"
     ]
    },
    {
     "name": "stderr",
     "output_type": "stream",
     "text": [
      "100%|██████████| 10980/10980 [06:59<00:00, 26.16it/s] \n"
     ]
    },
    {
     "name": "stdout",
     "output_type": "stream",
     "text": [
      "--- >>> Node Confidence: : 99.51%, Node to Leaf 2\n",
      ">>> Succesfully Loaded Weights ...\n",
      "[Step 4/4] >>> Leaf Stage Analysis: Leaf 2 ...\n"
     ]
    },
    {
     "name": "stderr",
     "output_type": "stream",
     "text": [
      "100%|██████████| 10980/10980 [08:23<00:00, 21.82it/s] \n"
     ]
    },
    {
     "name": "stdout",
     "output_type": "stream",
     "text": [
      ">>> Results:\n",
      ">>> Slide Label: ccRCC\n",
      ">>> Subtype Count:\n",
      " {'ccRCC': 5550, 'pRCC': 100, 'CHROMO': 0, 'ONCOCYTOMA': 0}\n",
      ">>> Slide: HP19.10064.A10.ccRCC\n",
      ">>> Start Slide Analysis ...\n",
      "[Step 1/4] >>> Cropping WSI into patches ...\n"
     ]
    },
    {
     "name": "stderr",
     "output_type": "stream",
     "text": [
      "100%|██████████| 8325/8325 [03:52<00:00, 35.80it/s]\n"
     ]
    },
    {
     "name": "stdout",
     "output_type": "stream",
     "text": [
      ">>> Succesfully Loaded Weights ...\n",
      "[Step 2/4] >>> Root Stage Analysis ...\n"
     ]
    },
    {
     "name": "stderr",
     "output_type": "stream",
     "text": [
      "100%|██████████| 8325/8325 [09:13<00:00, 15.05it/s]\n"
     ]
    },
    {
     "name": "stdout",
     "output_type": "stream",
     "text": [
      ">>> Succesfully Loaded Weights ...\n",
      "[Step 3/4] >>> Node Stage Analysis ...\n"
     ]
    },
    {
     "name": "stderr",
     "output_type": "stream",
     "text": [
      "100%|██████████| 8325/8325 [06:53<00:00, 20.15it/s] \n"
     ]
    },
    {
     "name": "stdout",
     "output_type": "stream",
     "text": [
      "--- >>> Node Confidence: : 97.58%, Node to Leaf 2\n",
      ">>> Succesfully Loaded Weights ...\n",
      "[Step 4/4] >>> Leaf Stage Analysis: Leaf 2 ...\n"
     ]
    },
    {
     "name": "stderr",
     "output_type": "stream",
     "text": [
      "100%|██████████| 8325/8325 [06:29<00:00, 21.37it/s] \n"
     ]
    },
    {
     "name": "stdout",
     "output_type": "stream",
     "text": [
      ">>> Results:\n",
      ">>> Slide Label: ccRCC\n",
      ">>> Subtype Count:\n",
      " {'ccRCC': 2467, 'pRCC': 2228, 'CHROMO': 0, 'ONCOCYTOMA': 0}\n",
      ">>> Slide: HP19.10064.A13.ccRCC\n",
      ">>> Start Slide Analysis ...\n",
      "[Step 1/4] >>> Cropping WSI into patches ...\n"
     ]
    },
    {
     "name": "stderr",
     "output_type": "stream",
     "text": [
      "100%|██████████| 6364/6364 [02:58<00:00, 35.64it/s]\n"
     ]
    },
    {
     "name": "stdout",
     "output_type": "stream",
     "text": [
      ">>> Succesfully Loaded Weights ...\n",
      "[Step 2/4] >>> Root Stage Analysis ...\n"
     ]
    },
    {
     "name": "stderr",
     "output_type": "stream",
     "text": [
      "100%|██████████| 6364/6364 [08:13<00:00, 12.91it/s]\n"
     ]
    },
    {
     "name": "stdout",
     "output_type": "stream",
     "text": [
      ">>> Succesfully Loaded Weights ...\n",
      "[Step 3/4] >>> Node Stage Analysis ...\n"
     ]
    },
    {
     "name": "stderr",
     "output_type": "stream",
     "text": [
      "100%|██████████| 6364/6364 [03:19<00:00, 31.86it/s] \n"
     ]
    },
    {
     "name": "stdout",
     "output_type": "stream",
     "text": [
      "--- >>> Node Confidence: : 99.76%, Node to Leaf 2\n",
      ">>> Succesfully Loaded Weights ...\n",
      "[Step 4/4] >>> Leaf Stage Analysis: Leaf 2 ...\n"
     ]
    },
    {
     "name": "stderr",
     "output_type": "stream",
     "text": [
      "100%|██████████| 6364/6364 [03:20<00:00, 31.79it/s] \n"
     ]
    },
    {
     "name": "stdout",
     "output_type": "stream",
     "text": [
      ">>> Results:\n",
      ">>> Slide Label: ccRCC\n",
      ">>> Subtype Count:\n",
      " {'ccRCC': 2429, 'pRCC': 82, 'CHROMO': 0, 'ONCOCYTOMA': 0}\n",
      ">>> Slide: HP19.10064.A14.ccRCC\n",
      ">>> Start Slide Analysis ...\n",
      "[Step 1/4] >>> Cropping WSI into patches ...\n"
     ]
    },
    {
     "name": "stderr",
     "output_type": "stream",
     "text": [
      "100%|██████████| 1548/1548 [00:39<00:00, 39.19it/s]\n"
     ]
    },
    {
     "name": "stdout",
     "output_type": "stream",
     "text": [
      ">>> Succesfully Loaded Weights ...\n",
      "[Step 2/4] >>> Root Stage Analysis ...\n"
     ]
    },
    {
     "name": "stderr",
     "output_type": "stream",
     "text": [
      "100%|██████████| 1548/1548 [01:30<00:00, 17.16it/s]\n"
     ]
    },
    {
     "name": "stdout",
     "output_type": "stream",
     "text": [
      ">>> Succesfully Loaded Weights ...\n",
      "[Step 3/4] >>> Node Stage Analysis ...\n"
     ]
    },
    {
     "name": "stderr",
     "output_type": "stream",
     "text": [
      "100%|██████████| 1548/1548 [01:11<00:00, 21.76it/s]\n"
     ]
    },
    {
     "name": "stdout",
     "output_type": "stream",
     "text": [
      "--- >>> Node Confidence: : 92.55%, Node to Leaf 2\n",
      ">>> Succesfully Loaded Weights ...\n",
      "[Step 4/4] >>> Leaf Stage Analysis: Leaf 2 ...\n"
     ]
    },
    {
     "name": "stderr",
     "output_type": "stream",
     "text": [
      "100%|██████████| 1548/1548 [01:06<00:00, 23.32it/s]\n"
     ]
    },
    {
     "name": "stdout",
     "output_type": "stream",
     "text": [
      ">>> Results:\n",
      ">>> Slide Label: ccRCC\n",
      ">>> Subtype Count:\n",
      " {'ccRCC': 527, 'pRCC': 338, 'CHROMO': 0, 'ONCOCYTOMA': 0}\n",
      ">>> Slide: HP19.10064.A16.ccRCC\n",
      ">>> Start Slide Analysis ...\n",
      "[Step 1/4] >>> Cropping WSI into patches ...\n"
     ]
    },
    {
     "name": "stderr",
     "output_type": "stream",
     "text": [
      "100%|██████████| 5740/5740 [02:29<00:00, 38.43it/s]\n"
     ]
    },
    {
     "name": "stdout",
     "output_type": "stream",
     "text": [
      ">>> Succesfully Loaded Weights ...\n",
      "[Step 2/4] >>> Root Stage Analysis ...\n"
     ]
    },
    {
     "name": "stderr",
     "output_type": "stream",
     "text": [
      "100%|██████████| 5740/5740 [06:13<00:00, 15.35it/s]\n"
     ]
    },
    {
     "name": "stdout",
     "output_type": "stream",
     "text": [
      ">>> Succesfully Loaded Weights ...\n",
      "[Step 3/4] >>> Node Stage Analysis ...\n"
     ]
    },
    {
     "name": "stderr",
     "output_type": "stream",
     "text": [
      " 42%|████▏     | 2407/5740 [00:21<00:30, 109.96it/s]\n"
     ]
    },
    {
     "ename": "KeyboardInterrupt",
     "evalue": "",
     "output_type": "error",
     "traceback": [
      "\u001b[1;31m---------------------------------------------------------------------------\u001b[0m",
      "\u001b[1;31mKeyboardInterrupt\u001b[0m                         Traceback (most recent call last)",
      "Cell \u001b[1;32mIn[229], line 65\u001b[0m\n\u001b[0;32m     54\u001b[0m result_dict[\u001b[38;5;124m'\u001b[39m\u001b[38;5;124mformat\u001b[39m\u001b[38;5;124m'\u001b[39m] \u001b[38;5;241m=\u001b[39m slideformat\n\u001b[0;32m     56\u001b[0m expertdt \u001b[38;5;241m=\u001b[39m ExpertDT(crop_size\u001b[38;5;241m=\u001b[39m\u001b[38;5;241m1000\u001b[39m,\n\u001b[0;32m     57\u001b[0m                     crop_resize\u001b[38;5;241m=\u001b[39m\u001b[38;5;241m112\u001b[39m,\n\u001b[0;32m     58\u001b[0m                     level\u001b[38;5;241m=\u001b[39m\u001b[38;5;241m0\u001b[39m,\n\u001b[1;32m   (...)\u001b[0m\n\u001b[0;32m     62\u001b[0m                     tree_pair_dir\u001b[38;5;241m=\u001b[39m\u001b[38;5;124m\"\u001b[39m\u001b[38;5;124m_info\u001b[39m\u001b[38;5;124m\"\u001b[39m,\n\u001b[0;32m     63\u001b[0m                     pruned_threshold\u001b[38;5;241m=\u001b[39m\u001b[38;5;241m30\u001b[39m)\n\u001b[1;32m---> 65\u001b[0m \u001b[43mexpertdt\u001b[49m\u001b[38;5;241;43m.\u001b[39;49m\u001b[43mpredict\u001b[49m\u001b[43m(\u001b[49m\u001b[43mslide_dir\u001b[49m\u001b[38;5;241;43m=\u001b[39;49m\u001b[43mslide_dir\u001b[49m\u001b[43m)\u001b[49m\n\u001b[0;32m     67\u001b[0m result_dict[\u001b[38;5;124m'\u001b[39m\u001b[38;5;124mnode_pruned\u001b[39m\u001b[38;5;124m'\u001b[39m] \u001b[38;5;241m=\u001b[39m expertdt\u001b[38;5;241m.\u001b[39mstages_status[\u001b[38;5;124m'\u001b[39m\u001b[38;5;124mNode\u001b[39m\u001b[38;5;124m'\u001b[39m]\u001b[38;5;241m==\u001b[39m\u001b[38;5;124m'\u001b[39m\u001b[38;5;124mPruned\u001b[39m\u001b[38;5;124m'\u001b[39m\n\u001b[0;32m     68\u001b[0m result_dict[\u001b[38;5;124m'\u001b[39m\u001b[38;5;124mccRCC\u001b[39m\u001b[38;5;124m'\u001b[39m] \u001b[38;5;241m=\u001b[39m expertdt\u001b[38;5;241m.\u001b[39msubtype_counts[\u001b[38;5;124m'\u001b[39m\u001b[38;5;124mccRCC\u001b[39m\u001b[38;5;124m'\u001b[39m]\n",
      "Cell \u001b[1;32mIn[226], line 481\u001b[0m, in \u001b[0;36mExpertDT.predict\u001b[1;34m(self, slide_dir)\u001b[0m\n\u001b[0;32m    479\u001b[0m \u001b[38;5;28mself\u001b[39m\u001b[38;5;241m.\u001b[39minit_patches(slide_dir)\n\u001b[0;32m    480\u001b[0m \u001b[38;5;28mself\u001b[39m\u001b[38;5;241m.\u001b[39mpredict_root()\n\u001b[1;32m--> 481\u001b[0m \u001b[38;5;28;43mself\u001b[39;49m\u001b[38;5;241;43m.\u001b[39;49m\u001b[43mpredict_node\u001b[49m\u001b[43m(\u001b[49m\u001b[43m)\u001b[49m\n\u001b[0;32m    482\u001b[0m \u001b[38;5;28mself\u001b[39m\u001b[38;5;241m.\u001b[39mpredict_leaf()\n\u001b[0;32m    484\u001b[0m \u001b[38;5;28mprint\u001b[39m(\u001b[38;5;124mf\u001b[39m\u001b[38;5;124m\"\u001b[39m\u001b[38;5;124m>>> Results:\u001b[39m\u001b[38;5;124m\"\u001b[39m)\n",
      "Cell \u001b[1;32mIn[226], line 265\u001b[0m, in \u001b[0;36mExpertDT.predict_node\u001b[1;34m(self)\u001b[0m\n\u001b[0;32m    262\u001b[0m root_crop_label \u001b[38;5;241m=\u001b[39m \u001b[38;5;28mself\u001b[39m\u001b[38;5;241m.\u001b[39mroot_refined_array[\u001b[38;5;28mself\u001b[39m\u001b[38;5;241m.\u001b[39mpatches_dict[patch_index][\u001b[38;5;124m'\u001b[39m\u001b[38;5;124my\u001b[39m\u001b[38;5;124m'\u001b[39m], \u001b[38;5;28mself\u001b[39m\u001b[38;5;241m.\u001b[39mpatches_dict[patch_index][\u001b[38;5;124m'\u001b[39m\u001b[38;5;124mx\u001b[39m\u001b[38;5;124m'\u001b[39m]]\n\u001b[0;32m    264\u001b[0m \u001b[38;5;28;01mif\u001b[39;00m root_crop_label \u001b[38;5;241m==\u001b[39m \u001b[38;5;241m1\u001b[39m:\n\u001b[1;32m--> 265\u001b[0m     region \u001b[38;5;241m=\u001b[39m \u001b[38;5;28;43mself\u001b[39;49m\u001b[38;5;241;43m.\u001b[39;49m\u001b[43mslide\u001b[49m\u001b[38;5;241;43m.\u001b[39;49m\u001b[43mread_region\u001b[49m\u001b[43m(\u001b[49m\u001b[43m[\u001b[49m\u001b[38;5;28;43mself\u001b[39;49m\u001b[38;5;241;43m.\u001b[39;49m\u001b[43mpatches_dict\u001b[49m\u001b[43m[\u001b[49m\u001b[43mpatch_index\u001b[49m\u001b[43m]\u001b[49m\u001b[43m[\u001b[49m\u001b[38;5;124;43m'\u001b[39;49m\u001b[38;5;124;43mleft\u001b[39;49m\u001b[38;5;124;43m'\u001b[39;49m\u001b[43m]\u001b[49m\u001b[43m,\u001b[49m\n\u001b[0;32m    266\u001b[0m \u001b[43m                                     \u001b[49m\u001b[38;5;28;43mself\u001b[39;49m\u001b[38;5;241;43m.\u001b[39;49m\u001b[43mpatches_dict\u001b[49m\u001b[43m[\u001b[49m\u001b[43mpatch_index\u001b[49m\u001b[43m]\u001b[49m\u001b[43m[\u001b[49m\u001b[38;5;124;43m'\u001b[39;49m\u001b[38;5;124;43mtop\u001b[39;49m\u001b[38;5;124;43m'\u001b[39;49m\u001b[43m]\u001b[49m\u001b[43m]\u001b[49m\u001b[43m,\u001b[49m\n\u001b[0;32m    267\u001b[0m \u001b[43m                                    \u001b[49m\u001b[38;5;28;43mself\u001b[39;49m\u001b[38;5;241;43m.\u001b[39;49m\u001b[43mlevel\u001b[49m\u001b[43m,\u001b[49m\n\u001b[0;32m    268\u001b[0m \u001b[43m                                    \u001b[49m\u001b[43m[\u001b[49m\u001b[38;5;28;43mself\u001b[39;49m\u001b[38;5;241;43m.\u001b[39;49m\u001b[43mpatches_dict\u001b[49m\u001b[43m[\u001b[49m\u001b[43mpatch_index\u001b[49m\u001b[43m]\u001b[49m\u001b[43m[\u001b[49m\u001b[38;5;124;43m'\u001b[39;49m\u001b[38;5;124;43msize\u001b[39;49m\u001b[38;5;124;43m'\u001b[39;49m\u001b[43m]\u001b[49m\u001b[43m,\u001b[49m\n\u001b[0;32m    269\u001b[0m \u001b[43m                                     \u001b[49m\u001b[38;5;28;43mself\u001b[39;49m\u001b[38;5;241;43m.\u001b[39;49m\u001b[43mpatches_dict\u001b[49m\u001b[43m[\u001b[49m\u001b[43mpatch_index\u001b[49m\u001b[43m]\u001b[49m\u001b[43m[\u001b[49m\u001b[38;5;124;43m'\u001b[39;49m\u001b[38;5;124;43msize\u001b[39;49m\u001b[38;5;124;43m'\u001b[39;49m\u001b[43m]\u001b[49m\u001b[43m]\u001b[49m\u001b[43m)\u001b[49m\n\u001b[0;32m    270\u001b[0m     region \u001b[38;5;241m=\u001b[39m region\u001b[38;5;241m.\u001b[39mconvert(\u001b[38;5;124m'\u001b[39m\u001b[38;5;124mRGB\u001b[39m\u001b[38;5;124m'\u001b[39m)\u001b[38;5;241m.\u001b[39mresize(size\u001b[38;5;241m=\u001b[39m(\u001b[38;5;28mself\u001b[39m\u001b[38;5;241m.\u001b[39mcrop_resize, \u001b[38;5;28mself\u001b[39m\u001b[38;5;241m.\u001b[39mcrop_resize))\n\u001b[0;32m    271\u001b[0m     image_array \u001b[38;5;241m=\u001b[39m np\u001b[38;5;241m.\u001b[39marray(region) \u001b[38;5;241m/\u001b[39m \u001b[38;5;241m255.0\u001b[39m\n",
      "File \u001b[1;32me:\\myenvs\\morph\\lib\\site-packages\\openslide\\__init__.py:251\u001b[0m, in \u001b[0;36mOpenSlide.read_region\u001b[1;34m(self, location, level, size)\u001b[0m\n\u001b[0;32m    241\u001b[0m \u001b[38;5;28;01mdef\u001b[39;00m \u001b[38;5;21mread_region\u001b[39m(\u001b[38;5;28mself\u001b[39m, location, level, size):\n\u001b[0;32m    242\u001b[0m \u001b[38;5;250m    \u001b[39m\u001b[38;5;124;03m\"\"\"Return a PIL.Image containing the contents of the region.\u001b[39;00m\n\u001b[0;32m    243\u001b[0m \n\u001b[0;32m    244\u001b[0m \u001b[38;5;124;03m    location: (x, y) tuple giving the top left pixel in the level 0\u001b[39;00m\n\u001b[1;32m   (...)\u001b[0m\n\u001b[0;32m    249\u001b[0m \u001b[38;5;124;03m    Unlike in the C interface, the image data returned by this\u001b[39;00m\n\u001b[0;32m    250\u001b[0m \u001b[38;5;124;03m    function is not premultiplied.\"\"\"\u001b[39;00m\n\u001b[1;32m--> 251\u001b[0m     region \u001b[38;5;241m=\u001b[39m \u001b[43mlowlevel\u001b[49m\u001b[38;5;241;43m.\u001b[39;49m\u001b[43mread_region\u001b[49m\u001b[43m(\u001b[49m\n\u001b[0;32m    252\u001b[0m \u001b[43m        \u001b[49m\u001b[38;5;28;43mself\u001b[39;49m\u001b[38;5;241;43m.\u001b[39;49m\u001b[43m_osr\u001b[49m\u001b[43m,\u001b[49m\u001b[43m \u001b[49m\u001b[43mlocation\u001b[49m\u001b[43m[\u001b[49m\u001b[38;5;241;43m0\u001b[39;49m\u001b[43m]\u001b[49m\u001b[43m,\u001b[49m\u001b[43m \u001b[49m\u001b[43mlocation\u001b[49m\u001b[43m[\u001b[49m\u001b[38;5;241;43m1\u001b[39;49m\u001b[43m]\u001b[49m\u001b[43m,\u001b[49m\u001b[43m \u001b[49m\u001b[43mlevel\u001b[49m\u001b[43m,\u001b[49m\u001b[43m \u001b[49m\u001b[43msize\u001b[49m\u001b[43m[\u001b[49m\u001b[38;5;241;43m0\u001b[39;49m\u001b[43m]\u001b[49m\u001b[43m,\u001b[49m\u001b[43m \u001b[49m\u001b[43msize\u001b[49m\u001b[43m[\u001b[49m\u001b[38;5;241;43m1\u001b[39;49m\u001b[43m]\u001b[49m\n\u001b[0;32m    253\u001b[0m \u001b[43m    \u001b[49m\u001b[43m)\u001b[49m\n\u001b[0;32m    254\u001b[0m     \u001b[38;5;28;01mif\u001b[39;00m \u001b[38;5;28mself\u001b[39m\u001b[38;5;241m.\u001b[39m_profile \u001b[38;5;129;01mis\u001b[39;00m \u001b[38;5;129;01mnot\u001b[39;00m \u001b[38;5;28;01mNone\u001b[39;00m:\n\u001b[0;32m    255\u001b[0m         region\u001b[38;5;241m.\u001b[39minfo[\u001b[38;5;124m'\u001b[39m\u001b[38;5;124micc_profile\u001b[39m\u001b[38;5;124m'\u001b[39m] \u001b[38;5;241m=\u001b[39m \u001b[38;5;28mself\u001b[39m\u001b[38;5;241m.\u001b[39m_profile\n",
      "File \u001b[1;32me:\\myenvs\\morph\\lib\\site-packages\\openslide\\lowlevel.py:335\u001b[0m, in \u001b[0;36mread_region\u001b[1;34m(slide, x, y, level, w, h)\u001b[0m\n\u001b[0;32m    333\u001b[0m     \u001b[38;5;28;01mreturn\u001b[39;00m Image\u001b[38;5;241m.\u001b[39mnew(\u001b[38;5;124m'\u001b[39m\u001b[38;5;124mRGBA\u001b[39m\u001b[38;5;124m'\u001b[39m, (w, h))\n\u001b[0;32m    334\u001b[0m buf \u001b[38;5;241m=\u001b[39m (w \u001b[38;5;241m*\u001b[39m h \u001b[38;5;241m*\u001b[39m c_uint32)()\n\u001b[1;32m--> 335\u001b[0m \u001b[43m_read_region\u001b[49m\u001b[43m(\u001b[49m\u001b[43mslide\u001b[49m\u001b[43m,\u001b[49m\u001b[43m \u001b[49m\u001b[43mbuf\u001b[49m\u001b[43m,\u001b[49m\u001b[43m \u001b[49m\u001b[43mx\u001b[49m\u001b[43m,\u001b[49m\u001b[43m \u001b[49m\u001b[43my\u001b[49m\u001b[43m,\u001b[49m\u001b[43m \u001b[49m\u001b[43mlevel\u001b[49m\u001b[43m,\u001b[49m\u001b[43m \u001b[49m\u001b[43mw\u001b[49m\u001b[43m,\u001b[49m\u001b[43m \u001b[49m\u001b[43mh\u001b[49m\u001b[43m)\u001b[49m\n\u001b[0;32m    336\u001b[0m \u001b[38;5;28;01mreturn\u001b[39;00m _load_image(buf, (w, h))\n",
      "File \u001b[1;32me:\\myenvs\\morph\\lib\\site-packages\\openslide\\lowlevel.py:230\u001b[0m, in \u001b[0;36m_check_error\u001b[1;34m(result, func, args)\u001b[0m\n\u001b[0;32m    226\u001b[0m         \u001b[38;5;28;01mreturn\u001b[39;00m result\n\u001b[0;32m    229\u001b[0m \u001b[38;5;66;03m# check if the library got into an error state after each library call\u001b[39;00m\n\u001b[1;32m--> 230\u001b[0m \u001b[38;5;28;01mdef\u001b[39;00m \u001b[38;5;21m_check_error\u001b[39m(result, func, args):\n\u001b[0;32m    231\u001b[0m     err \u001b[38;5;241m=\u001b[39m get_error(args[\u001b[38;5;241m0\u001b[39m])\n\u001b[0;32m    232\u001b[0m     \u001b[38;5;28;01mif\u001b[39;00m err \u001b[38;5;129;01mis\u001b[39;00m \u001b[38;5;129;01mnot\u001b[39;00m \u001b[38;5;28;01mNone\u001b[39;00m:\n",
      "\u001b[1;31mKeyboardInterrupt\u001b[0m: "
     ]
    }
   ],
   "source": [
    "from glob import glob\n",
    "\n",
    "root_dir = \"F:\\\\My Files\\\\Thesis\\\\Dataset\\\\RCC_WSIs\\\\\"\n",
    "wsi_formats = ['.scn', '.svs', '.tif']\n",
    "\n",
    "results_list = []\n",
    "\n",
    "for subtype in train_test_ids['Test'].keys():\n",
    "\n",
    "    if verbose:\n",
    "        print(f\"\\n\")\n",
    "        print(f\"--\"*15)\n",
    "        print(f\">>> Preparing Data for '{subtype}' Tests:\")\n",
    "        print(f\"--\"*15)\n",
    "        print(f\"\\n\")\n",
    "\n",
    "    for index in train_test_ids['Test'][subtype]:\n",
    "\n",
    "        print(f\"++\"*15)\n",
    "        print(f\">>> Patient ID: {ids_df.iloc[index].id}\")\n",
    "        print(f\"++\"*15)\n",
    "        \n",
    "        glob_pattern = []\n",
    "        \n",
    "        if subtype != \"Unknown\":\n",
    "\n",
    "            subtype_path = f\"F:\\\\My Files\\\\Thesis\\\\Dataset\\\\RCC_WSIs\\\\{subtype}\"\n",
    "\n",
    "            if glob(f\"{subtype_path}\\\\*{ids_df.iloc[index].id}*\"):\n",
    "                glob_pattern = glob(f\"{subtype_path}\\\\*{ids_df.iloc[index].id}*\")\n",
    "\n",
    "            elif glob(f\"F:\\\\My Files\\\\Thesis\\\\Dataset\\\\RCC_WSIs\\\\pre\\\\{subtype}\\\\*{ids_df.iloc[index].id}*\"):\n",
    "                glob_pattern = glob(f\"{args.root_dir}\\\\pre\\\\{subtype}\\\\*{ids_df.iloc[index].id}*\")\n",
    "\n",
    "        else:\n",
    "            subtype_path = f\"F:\\\\My Files\\\\Thesis\\\\Dataset\\\\2023_WSIs\"\n",
    "            if glob(f\"{subtype_path}\\\\*{ids_df.iloc[index].id}*\"):\n",
    "                glob_pattern = glob(f\"{subtype_path}\\\\*{ids_df.iloc[index].id}*\")\n",
    "\n",
    "        for slide_dir in glob_pattern:\n",
    "\n",
    "            slidename = slide_dir.split(\"\\\\\")[-1][:-4]\n",
    "            slideformat = slide_dir.split(\"\\\\\")[-1][-4:]\n",
    "\n",
    "            result_dict = {}\n",
    "\n",
    "            if slideformat in wsi_formats:\n",
    "\n",
    "                print(f\">>> Slide: {slidename}\")\n",
    "\n",
    "                result_dict['id'] = ids_df.iloc[index].id\n",
    "                result_dict['subtype'] = subtype\n",
    "                result_dict['slide'] = slidename\n",
    "                result_dict['format'] = slideformat\n",
    "\n",
    "                expertdt = ExpertDT(crop_size=1000,\n",
    "                                    crop_resize=112,\n",
    "                                    level=0,\n",
    "                                    overlap=1,\n",
    "                                    batch_size=128,\n",
    "                                    weights_dir=\"F:\\My Files\\Thesis\\Dataset\\_weights\",\n",
    "                                    tree_pair_dir=\"_info\",\n",
    "                                    pruned_threshold=30)\n",
    "                \n",
    "                expertdt.predict(slide_dir=slide_dir)\n",
    "                \n",
    "                result_dict['node_pruned'] = expertdt.stages_status['Node']=='Pruned'\n",
    "                result_dict['ccRCC'] = expertdt.subtype_counts['ccRCC']\n",
    "                result_dict['pRCC'] = expertdt.subtype_counts['pRCC']\n",
    "                result_dict['CHROMO'] = expertdt.subtype_counts['CHROMO']\n",
    "                result_dict['ONCOCYTOMA'] = expertdt.subtype_counts['ONCOCYTOMA']\n",
    "                result_dict['result'] = expertdt.max_subtype\n",
    "\n",
    "                results_list.append(result_dict)\n",
    "\n",
    "        results_df = pd.DataFrame(results_list)\n",
    "        results_df.to_csv('_res/expertdt_results.csv', index=False)       "
   ]
  },
  {
   "cell_type": "code",
   "execution_count": 192,
   "metadata": {},
   "outputs": [
    {
     "data": {
      "text/plain": [
       "'pRCC'"
      ]
     },
     "execution_count": 192,
     "metadata": {},
     "output_type": "execute_result"
    }
   ],
   "source": [
    "expertdt.max_subtype"
   ]
  },
  {
   "cell_type": "markdown",
   "metadata": {},
   "source": [
    "### Manual Tests"
   ]
  },
  {
   "cell_type": "code",
   "execution_count": 90,
   "metadata": {},
   "outputs": [
    {
     "name": "stdout",
     "output_type": "stream",
     "text": [
      "Model weights loaded from: F:\\My Files\\Thesis\\Dataset\\_weights\\Root\\model_epoch_90.h5\n"
     ]
    },
    {
     "name": "stderr",
     "output_type": "stream",
     "text": [
      "100%|██████████| 3080/3080 [04:07<00:00, 12.44it/s]\n"
     ]
    }
   ],
   "source": [
    "vgg16 = Vgg16(input_shape=(expertdt.crop_resize, expertdt.crop_resize, 3),\n",
    "                n_classes=expertdt.n_classes,\n",
    "                first_trained_layer=expertdt.first_trained_layer)\n",
    "\n",
    "vgg16.load_weights(weights_path=f\"{expertdt.weights_dir}\\Root\\{expertdt.final_weights['Root']}\")\n",
    "\n",
    "expertdt.root_array = expertdt.slide_array.copy()\n",
    "\n",
    "for patch_index in tqdm(range(len(expertdt.patches_dict))):\n",
    "\n",
    "    if not expertdt.patches_dict[patch_index]['label']==-1:\n",
    "\n",
    "        region = expertdt.slide.read_region([expertdt.patches_dict[patch_index]['left'],\n",
    "                                    expertdt.patches_dict[patch_index]['top']],\n",
    "                                expertdt.level,\n",
    "                                [expertdt.patches_dict[patch_index]['size'],\n",
    "                                    expertdt.patches_dict[patch_index]['size']])\n",
    "\n",
    "        region = region.convert('RGB').resize(size=(expertdt.crop_resize, expertdt.crop_resize))\n",
    "        image_array = np.array(region) / 255.0\n",
    "\n",
    "        pred_label = vgg16.predict(input=image_array)\n",
    "        pred_class = np.argmax(pred_label[0])\n",
    "\n",
    "        expertdt.root_array[expertdt.patches_dict[patch_index]['y'], expertdt.patches_dict[patch_index]['x']] = pred_class"
   ]
  },
  {
   "cell_type": "code",
   "execution_count": 102,
   "metadata": {},
   "outputs": [
    {
     "name": "stdout",
     "output_type": "stream",
     "text": [
      "Init Value Counts:  {-1.0: 1391, 0.0: 1801}\n",
      "Before Refinement Root Value Counts:  {-1.0: 1391, 0.0: 1181, 1.0: 620}\n",
      "After Refinement Root Value Counts:  {-1.0: 1405, 0.0: 1192, 1.0: 595}\n"
     ]
    },
    {
     "data": {
      "image/png": "[encoded data removed]",
      "text/plain": [
       "<Figure size 2000x500 with 6 Axes>"
      ]
     },
     "metadata": {},
     "output_type": "display_data"
    }
   ],
   "source": [
    "unique_values, counts = np.unique(expertdt.slide_array, return_counts=True)\n",
    "value_counts = dict(zip(unique_values, counts))\n",
    "\n",
    "print(\"Init Value Counts: \", value_counts)\n",
    "\n",
    "unique_values, counts = np.unique(expertdt.root_array, return_counts=True)\n",
    "value_counts = dict(zip(unique_values, counts))\n",
    "\n",
    "print(\"Before Refinement Root Value Counts: \", value_counts)\n",
    "\n",
    "root_refined_array = refine_output(expertdt.root_array)\n",
    "\n",
    "unique_values, counts = np.unique(root_refined_array, return_counts=True)\n",
    "value_counts = dict(zip(unique_values, counts))\n",
    "\n",
    "print(\"After Refinement Root Value Counts: \", value_counts)\n",
    "\n",
    "# Arrays to plot\n",
    "arrays = [expertdt.slide_array, expertdt.root_array, root_refined_array]\n",
    "titles = ['Slide Array', 'Root Array', 'Root Refined Array']\n",
    "\n",
    "# Plotting\n",
    "plot_arrays(arrays, titles)"
   ]
  },
  {
   "cell_type": "code",
   "execution_count": 21,
   "metadata": {},
   "outputs": [
    {
     "name": "stdout",
     "output_type": "stream",
     "text": [
      ">>> Succesfully Loaded Weights ...\n",
      ">>> Node Stage Analysis ...\n"
     ]
    },
    {
     "name": "stderr",
     "output_type": "stream",
     "text": [
      "100%|██████████| 3080/3080 [01:22<00:00, 37.49it/s] \n"
     ]
    }
   ],
   "source": [
    "vgg16 = Vgg16(input_shape=(expertdt.crop_resize, expertdt.crop_resize, 3),\n",
    "                n_classes=expertdt.n_classes,\n",
    "                first_trained_layer=expertdt.first_trained_layer)\n",
    "\n",
    "expertdt.load_tree_weights()\n",
    "vgg16.load_weights(weights_path=fr\"{expertdt.weights_dir}\\Node\\{expertdt.final_weights['Node']}\")\n",
    "\n",
    "expertdt.node_array = expertdt.root_refined_array.copy()\n",
    "\n",
    "print(\">>> Node Stage Analysis ...\")\n",
    "\n",
    "for patch_index in tqdm(range(len(expertdt.patches_dict))):\n",
    "\n",
    "    root_crop_label = expertdt.root_array[expertdt.patches_dict[patch_index]['y'], expertdt.patches_dict[patch_index]['x']]\n",
    "    node_condition = expertdt.patches_dict[patch_index]['label']!=-1 and root_crop_label!=0\n",
    "\n",
    "    if node_condition:\n",
    "    \n",
    "        region = expertdt.slide.read_region([expertdt.patches_dict[patch_index]['left'],\n",
    "                                    expertdt.patches_dict[patch_index]['top']],\n",
    "                                expertdt.level,\n",
    "                                [expertdt.patches_dict[patch_index]['size'],\n",
    "                                    expertdt.patches_dict[patch_index]['size']])\n",
    "\n",
    "        region = region.convert('RGB').resize(size=(expertdt.crop_resize, expertdt.crop_resize))\n",
    "        image_array = np.array(region) / 255.0\n",
    "\n",
    "        pred_label = vgg16.predict(input=image_array)\n",
    "        pred_class = np.argmax(pred_label[0])\n",
    "\n",
    "        expertdt.node_array[expertdt.patches_dict[patch_index]['y'], expertdt.patches_dict[patch_index]['x']] = pred_class+1\n",
    "\n",
    "expertdt.node_refined_array = expertdt.refine_output(expertdt.node_array)"
   ]
  },
  {
   "cell_type": "code",
   "execution_count": 31,
   "metadata": {},
   "outputs": [],
   "source": [
    "import matplotlib.pyplot as plt\n",
    "from matplotlib.colors import ListedColormap, BoundaryNorm\n",
    "\n",
    "# ['-1 (Gray)', '0 (Green)', '1 (Yellow)']\n",
    "yticks = ['-1 (Background)', '1 (ccRCC/pRCC)', '2 (CHROMO/ONCO)']\n",
    "\n",
    "def _refine(input):\n",
    "    \n",
    "    central = input[input.size // 2]\n",
    "    values, counts = np.unique(input, return_counts=True)\n",
    "    max_freq = counts.max()\n",
    "    modes = values[counts == max_freq]\n",
    "\n",
    "    if central in modes:\n",
    "        return central\n",
    "    else:\n",
    "        return modes[0]\n",
    "    \n",
    "def refine_output(input_crops, size=(3, 3)):\n",
    "\n",
    "    refined_crops = ndimage.generic_filter(input_crops, _refine, size=size, mode='nearest')\n",
    "\n",
    "    return refined_crops\n",
    "\n",
    "# Custom colormap: -1 to gray, 0 to green, 1 to yellow\n",
    "colors = ['gray', 'green', 'blue', 'red']\n",
    "cmap = ListedColormap(colors)\n",
    "bounds = [-1.5, -0.5, 0.5, 1.5, 2.5]  # Defines the boundaries between colors\n",
    "norm = BoundaryNorm(bounds, cmap.N)\n",
    "\n",
    "# Function to plot arrays with custom color mapping\n",
    "def plot_arrays(arrays, titles):\n",
    "    fig, axes = plt.subplots(1, len(arrays), figsize=(20, 5))\n",
    "    for ax, array, title in zip(axes, arrays, titles):\n",
    "        im = ax.imshow(array, cmap=cmap, norm=norm)\n",
    "        ax.set_title(title)\n",
    "        # Create colorbar with custom ticks and labels for each color segment\n",
    "        cbar = fig.colorbar(im, ax=ax, ticks=[-1, 1, 3], orientation='vertical')\n",
    "        cbar.ax.set_yticklabels(yticks)\n",
    "    plt.tight_layout()\n",
    "    plt.show()"
   ]
  },
  {
   "cell_type": "code",
   "execution_count": 32,
   "metadata": {},
   "outputs": [
    {
     "name": "stdout",
     "output_type": "stream",
     "text": [
      "Init Value Counts:  {-1.0: 1458, 0.0: 1029, 1.0: 593}\n",
      "Before Refinement Root Value Counts:  {-1.0: 1436, 0.0: 923, 1.0: 720, 2.0: 1}\n",
      "After Refinement Root Value Counts:  {-1.0: 1486, 0.0: 917, 1.0: 677}\n"
     ]
    },
    {
     "data": {
      "image/png": "[encoded data removed]",
      "text/plain": [
       "<Figure size 2000x500 with 6 Axes>"
      ]
     },
     "metadata": {},
     "output_type": "display_data"
    }
   ],
   "source": [
    "unique_values, counts = np.unique(expertdt.root_refined_array, return_counts=True)\n",
    "value_counts = dict(zip(unique_values, counts))\n",
    "\n",
    "print(\"Init Value Counts: \", value_counts)\n",
    "\n",
    "unique_values, counts = np.unique(expertdt.node_array, return_counts=True)\n",
    "value_counts = dict(zip(unique_values, counts))\n",
    "\n",
    "print(\"Before Refinement Root Value Counts: \", value_counts)\n",
    "\n",
    "root_refined_array = refine_output(expertdt.root_array)\n",
    "\n",
    "unique_values, counts = np.unique(expertdt.node_refined_array, return_counts=True)\n",
    "value_counts = dict(zip(unique_values, counts))\n",
    "\n",
    "print(\"After Refinement Root Value Counts: \", value_counts)\n",
    "\n",
    "# Arrays to plot\n",
    "arrays = [expertdt.root_refined_array, expertdt.node_array, expertdt.node_refined_array]\n",
    "titles = ['Refined Root', 'Node Array', 'Node Refined Array']\n",
    "\n",
    "# Plotting\n",
    "plot_arrays(arrays, titles)"
   ]
  },
  {
   "cell_type": "code",
   "execution_count": 65,
   "metadata": {},
   "outputs": [],
   "source": [
    "patches_df = pd.DataFrame(expertdt.patches_dict)"
   ]
  },
  {
   "cell_type": "code",
   "execution_count": 66,
   "metadata": {},
   "outputs": [
    {
     "data": {
      "text/html": [
       "<div>\n",
       "<style scoped>\n",
       "    .dataframe tbody tr th:only-of-type {\n",
       "        vertical-align: middle;\n",
       "    }\n",
       "\n",
       "    .dataframe tbody tr th {\n",
       "        vertical-align: top;\n",
       "    }\n",
       "\n",
       "    .dataframe thead th {\n",
       "        text-align: right;\n",
       "    }\n",
       "</style>\n",
       "<table border=\"1\" class=\"dataframe\">\n",
       "  <thead>\n",
       "    <tr style=\"text-align: right;\">\n",
       "      <th></th>\n",
       "      <th>x</th>\n",
       "      <th>y</th>\n",
       "      <th>top</th>\n",
       "      <th>left</th>\n",
       "      <th>size</th>\n",
       "      <th>label</th>\n",
       "    </tr>\n",
       "  </thead>\n",
       "  <tbody>\n",
       "    <tr>\n",
       "      <th>22</th>\n",
       "      <td>22</td>\n",
       "      <td>0</td>\n",
       "      <td>132286</td>\n",
       "      <td>57745</td>\n",
       "      <td>1000</td>\n",
       "      <td>0</td>\n",
       "    </tr>\n",
       "    <tr>\n",
       "      <th>76</th>\n",
       "      <td>21</td>\n",
       "      <td>1</td>\n",
       "      <td>133286</td>\n",
       "      <td>56745</td>\n",
       "      <td>1000</td>\n",
       "      <td>0</td>\n",
       "    </tr>\n",
       "    <tr>\n",
       "      <th>77</th>\n",
       "      <td>22</td>\n",
       "      <td>1</td>\n",
       "      <td>133286</td>\n",
       "      <td>57745</td>\n",
       "      <td>1000</td>\n",
       "      <td>0</td>\n",
       "    </tr>\n",
       "    <tr>\n",
       "      <th>82</th>\n",
       "      <td>27</td>\n",
       "      <td>1</td>\n",
       "      <td>133286</td>\n",
       "      <td>62745</td>\n",
       "      <td>1000</td>\n",
       "      <td>0</td>\n",
       "    </tr>\n",
       "    <tr>\n",
       "      <th>83</th>\n",
       "      <td>28</td>\n",
       "      <td>1</td>\n",
       "      <td>133286</td>\n",
       "      <td>63745</td>\n",
       "      <td>1000</td>\n",
       "      <td>0</td>\n",
       "    </tr>\n",
       "    <tr>\n",
       "      <th>...</th>\n",
       "      <td>...</td>\n",
       "      <td>...</td>\n",
       "      <td>...</td>\n",
       "      <td>...</td>\n",
       "      <td>...</td>\n",
       "      <td>...</td>\n",
       "    </tr>\n",
       "    <tr>\n",
       "      <th>2977</th>\n",
       "      <td>7</td>\n",
       "      <td>54</td>\n",
       "      <td>186286</td>\n",
       "      <td>42745</td>\n",
       "      <td>1000</td>\n",
       "      <td>0</td>\n",
       "    </tr>\n",
       "    <tr>\n",
       "      <th>2978</th>\n",
       "      <td>8</td>\n",
       "      <td>54</td>\n",
       "      <td>186286</td>\n",
       "      <td>43745</td>\n",
       "      <td>1000</td>\n",
       "      <td>0</td>\n",
       "    </tr>\n",
       "    <tr>\n",
       "      <th>2979</th>\n",
       "      <td>9</td>\n",
       "      <td>54</td>\n",
       "      <td>186286</td>\n",
       "      <td>44745</td>\n",
       "      <td>1000</td>\n",
       "      <td>0</td>\n",
       "    </tr>\n",
       "    <tr>\n",
       "      <th>3025</th>\n",
       "      <td>0</td>\n",
       "      <td>55</td>\n",
       "      <td>187286</td>\n",
       "      <td>35745</td>\n",
       "      <td>1000</td>\n",
       "      <td>0</td>\n",
       "    </tr>\n",
       "    <tr>\n",
       "      <th>3026</th>\n",
       "      <td>1</td>\n",
       "      <td>55</td>\n",
       "      <td>187286</td>\n",
       "      <td>36745</td>\n",
       "      <td>1000</td>\n",
       "      <td>0</td>\n",
       "    </tr>\n",
       "  </tbody>\n",
       "</table>\n",
       "<p>1689 rows × 6 columns</p>\n",
       "</div>"
      ],
      "text/plain": [
       "       x   y     top   left  size  label\n",
       "22    22   0  132286  57745  1000      0\n",
       "76    21   1  133286  56745  1000      0\n",
       "77    22   1  133286  57745  1000      0\n",
       "82    27   1  133286  62745  1000      0\n",
       "83    28   1  133286  63745  1000      0\n",
       "...   ..  ..     ...    ...   ...    ...\n",
       "2977   7  54  186286  42745  1000      0\n",
       "2978   8  54  186286  43745  1000      0\n",
       "2979   9  54  186286  44745  1000      0\n",
       "3025   0  55  187286  35745  1000      0\n",
       "3026   1  55  187286  36745  1000      0\n",
       "\n",
       "[1689 rows x 6 columns]"
      ]
     },
     "execution_count": 66,
     "metadata": {},
     "output_type": "execute_result"
    }
   ],
   "source": [
    "patches_df[patches_df['label']!=-1]"
   ]
  },
  {
   "cell_type": "markdown",
   "metadata": {},
   "source": [
    "# Changed Parts"
   ]
  },
  {
   "cell_type": "code",
   "execution_count": null,
   "metadata": {},
   "outputs": [],
   "source": [
    "    # def init_patches(self, slide_dir):\n",
    "\n",
    "    #     # Load Slide\n",
    "    #     self.slide = openslide.OpenSlide(slide_dir)\n",
    "    #     downsample = self.slide.level_downsamples[self.level]\n",
    "\n",
    "    #     # Check if slide has bound-width properties\n",
    "    #     if 'openslide.bounds-width' in self.slide.properties.keys():\n",
    "    #         self.bounds_width = int(self.slide.properties['openslide.bounds-width'])\n",
    "    #         self.bounds_height = int(self.slide.properties['openslide.bounds-height'])\n",
    "    #         bounds_x = int(self.slide.properties['openslide.bounds-x'])\n",
    "    #         bounds_y = int(self.slide.properties['openslide.bounds-y'])\n",
    "    #     else:\n",
    "    #         self.bounds_width = self.slide.dimensions[0]\n",
    "    #         self.bounds_height = self.slide.dimensions[1]\n",
    "    #         bounds_x = 0\n",
    "    #         bounds_y = 0\n",
    "\n",
    "    #     _step_ = int(self.crop_size / self.overlap)\n",
    "    #     _size_ = math.floor(self.crop_size / downsample)\n",
    "    #     _y_steps_ = int(math.ceil((self.bounds_height - self.crop_size) / _step_))\n",
    "    #     _x_steps_ = int(math.ceil((self.bounds_width - self.crop_size) / _step_))\n",
    "\n",
    "    #     self.patches_dict = []\n",
    "    #     self.slide_array = np.zeros((_y_steps_, _x_steps_))\n",
    "\n",
    "    #     y_index = 0\n",
    "\n",
    "    #     total_iterations = _y_steps_ * _x_steps_\n",
    "\n",
    "    #     print(\">>> Cropping WSI into patches ...\")\n",
    "\n",
    "    #     with tqdm(total=total_iterations) as pbar:\n",
    "\n",
    "    #         # N.B. Crops are considered in the 0 level\n",
    "    #         for y in range(_y_steps_):\n",
    "\n",
    "    #             x_index = 0\n",
    "    #             for x in range(_x_steps_):\n",
    "\n",
    "    #                 pbar.update(1)\n",
    "                    \n",
    "    #                 if x * _step_ + self.crop_size > self.bounds_width or y * _step_ + self.crop_size > self.bounds_height:\n",
    "    #                     continue\n",
    "                    \n",
    "    #                 # Top and left boundaries\n",
    "    #                 _top_ = _step_ * y + bounds_y\n",
    "    #                 _left_ = _step_ * x + bounds_x\n",
    "                    \n",
    "    #                 # Create patch dictionary\n",
    "    #                 _patch_ = {\n",
    "    #                             'x':x_index ,\n",
    "    #                             'y':y_index,\n",
    "    #                             'top': _top_,\n",
    "    #                             'left':_left_,\n",
    "    #                             'size': _size_\n",
    "    #                             }\n",
    "                    \n",
    "    #                 if not self.check_background(_patch_):\n",
    "    #                     _label_ = 0\n",
    "                        \n",
    "    #                 else:\n",
    "    #                     _label_ = -1\n",
    "\n",
    "    #                 _patch_['label'] = _label_\n",
    "    #                 self.slide_array[y_index, x_index] = _label_\n",
    "    #                 self.patches_dict.append(_patch_)\n",
    "\n",
    "    #                 x_index += 1\n",
    "\n",
    "    #             y_index += 1\n",
    "\n",
    "    #     self.patches_dict = list(self.patches_dict)\n",
    "\n",
    "\n",
    "\n",
    "\n",
    "\n",
    "\n",
    "\n",
    "\n",
    "\n",
    "\n",
    "\n",
    "\n",
    "    # def predict_node(self):\n",
    "\n",
    "    #     if not self.check_stage_requirement(stage=\"Node\"):\n",
    "    #         print(\"[WARNING] No Root Analysis Found ...\")\n",
    "    #     else:  \n",
    "    #         vgg16 = Vgg16(input_shape=(self.crop_resize, self.crop_resize, 3),\n",
    "    #                         n_classes=self.n_classes,\n",
    "    #                         first_trained_layer=self.first_trained_layer)\n",
    "            \n",
    "    #         self.load_tree_weights()\n",
    "    #         vgg16.load_weights(weights_path=fr\"{self.weights_dir}\\Node\\{self.final_weights['Node']}\")\n",
    "\n",
    "    #         self.node_array = self.root_refined_array.copy()\n",
    "\n",
    "    #         print(\">>> Node Stage Analysis ...\")\n",
    "\n",
    "    #         for patch_index in tqdm(range(len(self.patches_dict))):\n",
    "\n",
    "    #             root_crop_label = self.root_refined_array[self.patches_dict[patch_index]['y'], self.patches_dict[patch_index]['x']]\n",
    "    #             node_condition = self.patches_dict[patch_index]['label']!=-1 and root_crop_label==1\n",
    "\n",
    "    #             if node_condition:\n",
    "                \n",
    "    #                 region = self.slide.read_region([self.patches_dict[patch_index]['left'],\n",
    "    #                                             self.patches_dict[patch_index]['top']],\n",
    "    #                                         self.level,\n",
    "    #                                         [self.patches_dict[patch_index]['size'],\n",
    "    #                                             self.patches_dict[patch_index]['size']])\n",
    "\n",
    "    #                 region = region.convert('RGB').resize(size=(self.crop_resize, self.crop_resize))\n",
    "    #                 image_array = np.array(region) / 255.0\n",
    "\n",
    "    #                 pred_label = vgg16.predict(input=image_array)\n",
    "    #                 pred_class = np.argmax(pred_label[0])\n",
    "\n",
    "    #                 if pred_class==0:\n",
    "    #                     node_label = 2\n",
    "    #                 else:\n",
    "    #                     node_label = 1\n",
    "\n",
    "    #                 self.node_array[self.patches_dict[patch_index]['y'], self.patches_dict[patch_index]['x']] = node_label\n",
    "\n",
    "    #         self.node_refined_array = self.refine_output(self.node_array)\n",
    "\n",
    "    #         # Find the path to leaf1 of leaf2 based on majority voting\n",
    "    #         unique_values, counts = np.unique(self.node_refined_array, return_counts=True)\n",
    "    #         value_counts = dict(zip(unique_values, counts))\n",
    "\n",
    "    #         # Count number of patches of two node super classes\n",
    "    #         node_count_1, node_count_2 = value_counts.get(1, 0), value_counts.get(2, 0)\n",
    "\n",
    "    #         # Compute the difference percentage between two super classes\n",
    "\n",
    "    #         node_cert = round(abs(node_count_1 - node_count_2) / (node_count_1 + node_count_2) * 100, 2)\n",
    "\n",
    "    #         # Check node pruning\n",
    "    #         if node_cert >= self.node_pruned_threshold:\n",
    "\n",
    "    #             # Determine the majority label\n",
    "    #             node_majority = 1 if node_count_1 > node_count_2 else 2\n",
    "    #             print(f\"--- >>> Node Confidence %: : {node_cert}%, Node Label: {node_majority}\")\n",
    "    #             self.stages_status['Node'] = f'Leaf{node_majority}' \n",
    "    #         else:\n",
    "    #             self.stages_status['Node'] = 'Pruned'\n",
    "    #             print(\"--- >>> Node is Pruned! Connecting Root Directly to Leafs ...\")\n",
    "\n",
    "            "
   ]
  }
 ],
 "metadata": {
  "kernelspec": {
   "display_name": "morph",
   "language": "python",
   "name": "python3"
  },
  "language_info": {
   "codemirror_mode": {
    "name": "ipython",
    "version": 3
   },
   "file_extension": ".py",
   "mimetype": "text/x-python",
   "name": "python",
   "nbconvert_exporter": "python",
   "pygments_lexer": "ipython3",
   "version": "3.9.18"
  }
 },
 "nbformat": 4,
 "nbformat_minor": 2
}
